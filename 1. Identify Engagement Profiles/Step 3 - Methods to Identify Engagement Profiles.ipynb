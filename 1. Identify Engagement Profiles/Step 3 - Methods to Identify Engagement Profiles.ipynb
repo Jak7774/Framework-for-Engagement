{
 "cells": [
  {
   "cell_type": "markdown",
   "id": "1fb8b847",
   "metadata": {},
   "source": [
    "# Design Stage\n",
    "\n",
    "## Step 3 - Methods to Identify Engagement Profiles\n",
    "`Step 3` is about describing the analysis for how the trial statistician will assess the collected user engagement data to determine the engagement profiles of participants. This analysis will use K-means clustering to identify different groups of users from the engagement data. From `step 2`, the trial team will have already determined the engagement indicator variables that will be used in the cluster analysis. \n",
    "\n",
    "Six different cluster methods were compared in `chapter 3`, across three different case studies included in the research K-means was identified as the most optimal algorithm to use. In two case studies (COPe-Support and HeadGear) this algorithm alone performed best. Whereas for BRIGHTEN, the case study with the most indicator variables, the best performing approach was to apply PCA, a dimensionality reduction algorithm, before running the K-means cluster algorithm. \n",
    "\n",
    "Based on these learnings from `chapter 3`, an example for what the trial statistician could write in the statistical analysis plan to identify engagement profiles in their corresponding intervention is shown below for the EFFIP study. "
   ]
  },
  {
   "cell_type": "markdown",
   "id": "bdd75178",
   "metadata": {},
   "source": [
    "#### 1) Describe Indicator Variables\n",
    "In COPe-Support there are 18 variables that were defined as engagement indicators. These were determined in discussions with the chief investigator and by visually exploring the available engagement data. In the COPe-Support intervention there was 65 different measures captured to describe a users interactions with the intervention. \n",
    "\n",
    "From the measures available, 8 of these were taken directly as engagement indicator variables:\n",
    " - activation status\n",
    " - total minutes\n",
    " - unique logins per day\n",
    " - unique logins per week\n",
    " - total pageviews\n",
    " - posts to the peer-to-peer forum\n",
    " - posts to the ask-the-expert forum\n",
    " - total days using the intervention\n",
    " \n",
    "A further 10 variables would be dervied for the final list of indicator variables: \n",
    " - registration status\n",
    " - total days between first and last recorded pageview\n",
    " - total days between first and last post to peer-to-peer forum\n",
    " - total days between first and last post to ask-the-expert forum\n",
    " - proportion of weeks where pageviews was recorded\n",
    " - proportion of weeks where posts to the peer-to-peer forum were recorded\n",
    " - proportion of weeks where posts to the ask-the-expert forum were recorded\n",
    " - variability between weeks for pageviews recorded\n",
    " - variability between weeks in the number of posts to the peer-to-peer forum\n",
    " - variability between weeks in the number of posts to the ask-the-expert forum\n",
    "\n",
    "For the cluster analysis, only complete data was used and all variables were scaled to a standard normal to ensure differences in magnitude between variables did not influence the selection. "
   ]
  },
  {
   "cell_type": "markdown",
   "id": "4988f7ef",
   "metadata": {},
   "source": [
    "#### 2) Methods for the Cluster Analysis\n",
    "The cluster analysis will use the K-means algorithm, this is a centroid based cluster algorithm that groups individuals based on similarities in terms of distance, measured using the Euclidean distance, between observations across the set of engagement indicators. The K-means algorithm has one input parameter, the number of clusters known as K. To determine the value of K, first the K-means algorithm will be performed for a range of different values for K, intially this will be integers ranging from 2 to 10. Once the cluster analysis is performed for each value of K, these will be assessed to determine the optimal number of groups, termed here as engagement profiles. \n",
    "\n",
    "To assess the optimal number of engagement profiles, the average Silhouette score will be generated for all observations under each value of K. The Silhouette scores measures how well each observation fits within the assigned cluster compared to the other clusters, with higher scores indicating better fit. The value of K with the highest average Silhouette score will be considered the optimal number of groups. Additionally, the plot of individual Silhouete scores for all observations in their allocated cluster will be generated and assessed. This will reasonable Silhouette scores for all observations adn that the high average Silhouette score is not just down to the influence of a few well allocated observations. If the indivdual Silhouette score looks reasonable as well as the average Silhouette score, this K number of engagement profiles will be selected, otherwise this process will be repeated for the other values of K until an optimal solution is found. "
   ]
  }
 ],
 "metadata": {
  "kernelspec": {
   "display_name": "Stata (nbstata)",
   "language": "stata",
   "name": "nbstata"
  },
  "language_info": {
   "file_extension": ".do",
   "mimetype": "text/x-stata",
   "name": "stata",
   "version": "17"
  }
 },
 "nbformat": 4,
 "nbformat_minor": 5
}
