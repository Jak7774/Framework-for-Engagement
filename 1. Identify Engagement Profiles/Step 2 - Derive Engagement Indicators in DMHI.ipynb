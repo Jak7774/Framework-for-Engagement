{
 "cells": [
  {
   "cell_type": "markdown",
   "id": "1fb8b847",
   "metadata": {},
   "source": [
    "# Design Stage\n",
    "\n",
    "## Step 2 - Derive the Engagement Indicator Variables\n",
    "In this second step of the design phase of the framework, where the engagement measures are asssessed, the measures captured are “information rich” so there are typically multiple indicator variables that can be derived alongside the measure itself. When deriving the engagement indicator variables, each engagement indicator should precisely describe a single aspect of an individual’s engagement to the intervention.  \n",
    "\n",
    "In this case study, trial has already been completed so the data is already collected. So in this notebook, I am showing how the indicator variables were derived. "
   ]
  },
  {
   "cell_type": "code",
   "execution_count": 1,
   "id": "f131e64f",
   "metadata": {},
   "outputs": [
    {
     "data": {
      "text/html": [
       "<style>div.jp-Notebook .datagrid-container {min-height: 448px; }</style>"
      ],
      "text/plain": [
       "<IPython.core.display.HTML object>"
      ]
     },
     "metadata": {},
     "output_type": "display_data"
    }
   ],
   "source": [
    "qui do Folders // Load Folder Global Macros\n",
    "qui cd \"$RAW\"\n",
    "\n",
    "use weekly, clear\n",
    "sort ID week"
   ]
  },
  {
   "cell_type": "code",
   "execution_count": 2,
   "id": "15a989ad",
   "metadata": {},
   "outputs": [
    {
     "data": {
      "text/html": [
       "<div>\n",
       "<style scoped>\n",
       "    .dataframe tbody tr th:only-of-type {\n",
       "        vertical-align: middle;\n",
       "    }\n",
       "\n",
       "    .dataframe tbody tr th {\n",
       "        vertical-align: top;\n",
       "    }\n",
       "\n",
       "    .dataframe thead th {\n",
       "        text-align: right;\n",
       "    }\n",
       "</style>\n",
       "<table border=\"1\" class=\"dataframe\">\n",
       "  <thead>\n",
       "    <tr style=\"text-align: right;\">\n",
       "      <th></th>\n",
       "      <th>ID</th>\n",
       "      <th>activated</th>\n",
       "      <th>cohort</th>\n",
       "      <th>week</th>\n",
       "      <th>wkpv</th>\n",
       "      <th>wkpost</th>\n",
       "      <th>ate</th>\n",
       "      <th>ptp</th>\n",
       "      <th>totrow</th>\n",
       "    </tr>\n",
       "  </thead>\n",
       "  <tbody>\n",
       "    <tr>\n",
       "      <th>1</th>\n",
       "      <td>1</td>\n",
       "      <td>1</td>\n",
       "      <td>1</td>\n",
       "      <td>1</td>\n",
       "      <td>1</td>\n",
       "      <td>0</td>\n",
       "      <td>0</td>\n",
       "      <td>0</td>\n",
       "      <td>18</td>\n",
       "    </tr>\n",
       "    <tr>\n",
       "      <th>2</th>\n",
       "      <td>1</td>\n",
       "      <td>1</td>\n",
       "      <td>1</td>\n",
       "      <td>2</td>\n",
       "      <td>0</td>\n",
       "      <td>0</td>\n",
       "      <td>0</td>\n",
       "      <td>0</td>\n",
       "      <td>18</td>\n",
       "    </tr>\n",
       "    <tr>\n",
       "      <th>3</th>\n",
       "      <td>1</td>\n",
       "      <td>1</td>\n",
       "      <td>1</td>\n",
       "      <td>3</td>\n",
       "      <td>0</td>\n",
       "      <td>0</td>\n",
       "      <td>0</td>\n",
       "      <td>0</td>\n",
       "      <td>18</td>\n",
       "    </tr>\n",
       "    <tr>\n",
       "      <th>4</th>\n",
       "      <td>1</td>\n",
       "      <td>1</td>\n",
       "      <td>1</td>\n",
       "      <td>4</td>\n",
       "      <td>0</td>\n",
       "      <td>0</td>\n",
       "      <td>0</td>\n",
       "      <td>0</td>\n",
       "      <td>18</td>\n",
       "    </tr>\n",
       "    <tr>\n",
       "      <th>5</th>\n",
       "      <td>1</td>\n",
       "      <td>1</td>\n",
       "      <td>1</td>\n",
       "      <td>5</td>\n",
       "      <td>0</td>\n",
       "      <td>0</td>\n",
       "      <td>0</td>\n",
       "      <td>0</td>\n",
       "      <td>18</td>\n",
       "    </tr>\n",
       "  </tbody>\n",
       "</table>\n",
       "</div>"
      ]
     },
     "metadata": {},
     "output_type": "display_data"
    }
   ],
   "source": [
    "%head"
   ]
  },
  {
   "cell_type": "markdown",
   "id": "8903e8fe",
   "metadata": {},
   "source": [
    "#### Deriving First to Last Variable\n",
    "Pageviews, posts to the peer-to-peer forum, and posts to the ask-the-expert forum are all measured weekly. Here I am deriving the total time between the first and last week where each variable was reported. \n",
    "\n",
    "#### Deriving Weekly Variability\n",
    "For the variables measured weekly, the variability in their values from week to week are generated. The data is in long format, so using Stata's collapse command and group by participant all data for these variables are summarised by their SD. "
   ]
  },
  {
   "cell_type": "code",
   "execution_count": 3,
   "id": "4ae0678a",
   "metadata": {},
   "outputs": [
    {
     "name": "stdout",
     "output_type": "stream",
     "text": [
      "(2,812 observations deleted)\n",
      "(556 observations deleted)\n",
      "(133 observations deleted)\n",
      "file __000001.dta saved\n",
      "(3,571 observations deleted)\n",
      "(30 observations deleted)\n",
      "(28 observations deleted)\n",
      "file __000002.dta saved\n",
      "(3,545 observations deleted)\n",
      "(49 observations deleted)\n",
      "(30 observations deleted)\n",
      "file __000003.dta saved\n",
      "file __000004.dta saved\n"
     ]
    }
   ],
   "source": [
    "* Generate binary indicator variable for each variable when not 0 and not missing for each week\n",
    "gen ftl_wkpv = (wkpv > 0 & wkpv < .)\n",
    "gen ftl_ptp = (ptp > 0 & ptp < . )\n",
    "gen ftl_ate = (ate > 0 & ate < . )\n",
    "\n",
    "tempname wkpv ptp ate\n",
    "local inds `\" wkpv ptp ate \"' // store variables in a string of words to access in loop \n",
    "local n : word count `inds'\n",
    "* Loop through all three variables\n",
    "forvalues i = 1/`n' {\n",
    "\tpreserve\n",
    "\tlocal ind : word `i' of `inds' // in the macro \"ind\" select the ith word \n",
    "\tkeep if ftl_`ind' == 1 // Keep data only if\n",
    "\tbysort ID: egen act_`ind' = sum(ftl_`ind') // sum all non-zero values of the binary indicator (needed to derive intensity variable)\n",
    "\tsort ID week\n",
    "\tbysort ID: keep if _n == 1 | _n == _N\n",
    "\tbysort ID: gen first = week[1]\n",
    "\tbysort ID: gen last  = week[_N]\n",
    "\tgen dur_`ind' = (last - first) + 1\n",
    "\tegen pickone = tag(ID) \n",
    "\tkeep if pickone\n",
    "\tkeep ID dur_`ind' act_`ind'\n",
    "\tsave ``ind'' , replace\n",
    "\trestore\n",
    "}\n",
    "\n",
    "/* --- Deriving Variability in Pageviews, PtP and AtE --- */\n",
    "tempname variation\n",
    "collapse (sd) sdwkpv = wkpv (sd) sdptp = ptp (sd) sdate = ate , by(ID)\n",
    "save `variation', replace"
   ]
  },
  {
   "cell_type": "markdown",
   "id": "d08b77e0",
   "metadata": {},
   "source": [
    "#### Coallating Total Variables\n",
    "Total variables were already available in the engagement measures collected in the COPe-Support intervention. These variables are imported, then the derived variables that were saved in temporary filenames are then merged on using participant ID. "
   ]
  },
  {
   "cell_type": "code",
   "execution_count": 4,
   "id": "e53d7751",
   "metadata": {},
   "outputs": [
    {
     "name": "stdout",
     "output_type": "stream",
     "text": [
      "\n",
      "    Result                      Number of obs\n",
      "    -----------------------------------------\n",
      "    Not matched                            33\n",
      "        from master                        33  \n",
      "        from using                          0  \n",
      "\n",
      "    Matched                               171  \n",
      "    -----------------------------------------\n",
      "\n",
      "    Result                      Number of obs\n",
      "    -----------------------------------------\n",
      "    Not matched                           161\n",
      "        from master                       161  \n",
      "        from using                          0  \n",
      "\n",
      "    Matched                                43  \n",
      "    -----------------------------------------\n",
      "\n",
      "    Result                      Number of obs\n",
      "    -----------------------------------------\n",
      "    Not matched                           156\n",
      "        from master                       156  \n",
      "        from using                          0  \n",
      "\n",
      "    Matched                                48  \n",
      "    -----------------------------------------\n",
      "\n",
      "    Result                      Number of obs\n",
      "    -----------------------------------------\n",
      "    Not matched                             0\n",
      "    Matched                               204  \n",
      "    -----------------------------------------\n"
     ]
    }
   ],
   "source": [
    "use summary , clear\n",
    "order ID cohort , first\n",
    "\n",
    "* Merge Duration (First to Last to Dataset)\n",
    "merge m:1 ID using `wkpv' , nogen keep(1 3)\n",
    "merge m:1 ID using `ptp' , nogen keep(1 3)  \n",
    "merge m:1 ID using `ate' , nogen keep(1 3)\n",
    "\n",
    "* Merge on Variability\n",
    "merge 1:1 ID using `variation', nogen keep(1 3)"
   ]
  },
  {
   "cell_type": "code",
   "execution_count": 5,
   "id": "567aa68b",
   "metadata": {},
   "outputs": [
    {
     "name": "stdout",
     "output_type": "stream",
     "text": [
      "ID         totalmins  pageviews  ate        dur_wkpv   act_ate    sdptp\n",
      "cohort     logindays  posts      totaldays  act_ptp    dur_ate    sdate\n",
      "activated  loginwks   ptp        act_wkpv   dur_ptp    sdwkpv\n"
     ]
    }
   ],
   "source": [
    "ds // Review Variable Names"
   ]
  },
  {
   "cell_type": "markdown",
   "id": "a21b0b2f",
   "metadata": {},
   "source": [
    "#### Deriving Intensity Variables"
   ]
  },
  {
   "cell_type": "code",
   "execution_count": 6,
   "id": "99f1a5a8",
   "metadata": {},
   "outputs": [
    {
     "name": "stdout",
     "output_type": "stream",
     "text": [
      "(33 missing values generated)\n",
      "(161 missing values generated)\n",
      "(156 missing values generated)\n"
     ]
    }
   ],
   "source": [
    "gen rate_wkpv = act_wkpv / dur_wkpv \n",
    "gen rate_ptp = act_ptp / dur_ptp\n",
    "gen rate_ate = act_ate / dur_ate"
   ]
  },
  {
   "cell_type": "markdown",
   "id": "8927c7f7",
   "metadata": {},
   "source": [
    "#### Registation & Activation\n",
    "After discussions with the Chief Investigator, the engagement measure that was called \"activated\" was actually considered to be more a status indicator on whether a participant had registered for the intervention. So this variable was renamed to registered, and from this a new variable was derived to assess the activation status of participants. To be activated the participant must have registered for the intervention and recorded at least 1 of activity. "
   ]
  },
  {
   "cell_type": "code",
   "execution_count": 7,
   "id": "2a5215b6",
   "metadata": {},
   "outputs": [
    {
     "name": "stdout",
     "output_type": "stream",
     "text": [
      "\n",
      "Activation |       activated\n",
      "    Status |        No        Yes |     Total\n",
      "-----------+----------------------+----------\n",
      "        No |        29          0 |        29 \n",
      "       Yes |         1        174 |       175 \n",
      "-----------+----------------------+----------\n",
      "     Total |        30        174 |       204 \n"
     ]
    }
   ],
   "source": [
    "rename activated registered\n",
    "gen activated = (registered == 1 & totalmins > 0 & totalmins < . )\n",
    "lab define yn 0 \"No\" 1 \"Yes\"\n",
    "lab values activated yn\n",
    "order activated , after(registered)\n",
    "\n",
    "tab registered activated // Shows 1 participant registered but not activated"
   ]
  },
  {
   "cell_type": "markdown",
   "id": "3bd4ea32",
   "metadata": {},
   "source": [
    "#### Total Days\n",
    "The intervention period was 18 weeks, some individuals continued to use the intervention after this period. For those individuals the total number of days using the intervention needs to be censored to 126 days which is the maximum time they could use the intervention."
   ]
  },
  {
   "cell_type": "code",
   "execution_count": 8,
   "id": "ff976e08",
   "metadata": {},
   "outputs": [
    {
     "name": "stdout",
     "output_type": "stream",
     "text": [
      "(20 real changes made)\n",
      "\n",
      "    Variable |        Obs        Mean    Std. dev.       Min        Max\n",
      "-------------+---------------------------------------------------------\n",
      "   totaldays |        181    66.49171     42.6976          1        126\n"
     ]
    }
   ],
   "source": [
    "/* Data only extracted for first 18 Weeks, but total days is extracted\n",
    "\tfor the whole time participants used the interventions.  */\n",
    "replace totaldays = 126 if totaldays > (18 * 7)  & totaldays < . \n",
    "sum totaldays"
   ]
  },
  {
   "cell_type": "markdown",
   "id": "d9e0711c",
   "metadata": {},
   "source": [
    "#### Resolve Missing Data\n",
    "For those who did not activate the data is missing for some varaibles. But because we know the reason for this missingness because they did not activate the intervention, so instead we need to change this to be 0 instead."
   ]
  },
  {
   "cell_type": "code",
   "execution_count": 9,
   "id": "a0c0b354",
   "metadata": {},
   "outputs": [
    {
     "name": "stdout",
     "output_type": "stream",
     "text": [
      "(30 real changes made)\n",
      "(13 real changes made)\n",
      "(12 real changes made)\n",
      "(0 real changes made)\n",
      "(0 real changes made)\n",
      "(30 real changes made)\n",
      "(2 real changes made)\n",
      "(32 real changes made)\n",
      "(32 real changes made)\n",
      "(2 real changes made)\n",
      "(32 real changes made)\n",
      "(0 real changes made)\n",
      "(32 real changes made)\n",
      "(32 real changes made)\n",
      "(161 real changes made)\n",
      "(0 real changes made)\n",
      "(161 real changes made)\n",
      "(161 real changes made)\n",
      "(156 real changes made)\n",
      "(0 real changes made)\n",
      "(156 real changes made)\n",
      "(156 real changes made)\n"
     ]
    }
   ],
   "source": [
    "/* --- Replace Missing with 0's where appropriate --- */\n",
    "\n",
    "* When not Activated\n",
    "replace totalmins = 0 if activated == 0\n",
    "replace pageviews = 0 if activated == 0\n",
    "replace posts = 0 if activated == 0\n",
    "replace ptp = 0 if activated == 0\n",
    "replace ate = 0 if activated == 0\n",
    "replace totaldays = 0 if activated == 0\n",
    "\n",
    "* When other variables are 0\n",
    "replace totalmins = 0 if pageviews == 0\n",
    "replace logindays = 0 if pageviews == 0\n",
    "replace loginwks = 0 if pageviews == 0\n",
    "replace totaldays = 0 if pageviews == 0\n",
    "\n",
    "\n",
    "foreach v of varlist rate_wkpv sdwkpv act_wkpv dur_wkpv  {\n",
    "\treplace `v' = 0 if totalmins == 0\n",
    "}\n",
    "\n",
    "foreach v of varlist rate_ptp sdptp act_ptp dur_ptp {\n",
    "\treplace `v' = 0 if ptp == 0\n",
    "}\n",
    "\n",
    "foreach v of varlist rate_ate sdate act_ate dur_ate {\n",
    "\treplace `v' = 0 if ate == 0\n",
    "}"
   ]
  },
  {
   "cell_type": "markdown",
   "id": "4a914c33",
   "metadata": {},
   "source": [
    "#### Labelling and Tidy Up"
   ]
  },
  {
   "cell_type": "code",
   "execution_count": 10,
   "id": "49b89711",
   "metadata": {},
   "outputs": [],
   "source": [
    "lab var registered \"Registered to Intervention\"\n",
    "lab var activated \"Activated (exposed) to Intervention\"\n",
    "lab var dur_wkpv \"Pageviews - Weeks between first and last count > 0\"\n",
    "lab var dur_ptp \"PtP - Weeks between first and last count > 0\"\n",
    "lab var dur_ate \"AtE - Weeks between first and last count > 0\"\n",
    "lab var act_wkpv \"Pageviews - Activity across Total Duration\"\n",
    "lab var act_ptp \"PtP - Activity across Total Duration\"\n",
    "lab var act_ate \"AtE - Activity across Total Duration\"\n",
    "lab var rate_wkpv \"Pageviews - Proportion of Weeks Active\"\n",
    "lab var rate_ptp \"PtP - Proportion of Weeks Active\"\n",
    "lab var rate_ate \"AtE - Proportion of Weeks Active\"\n",
    "lab var sdwkpv \"(Variation) SD of Weekly Pageviews\"\n",
    "lab var sdptp \"(Variation) SD of Weekly PtP Posts\"\n",
    "lab var sdate \"(Variation) SD of Weekly AtE Posts\"\n",
    "\n",
    "drop act_*\n",
    "sort ID"
   ]
  },
  {
   "cell_type": "code",
   "execution_count": 11,
   "id": "09a35c02",
   "metadata": {},
   "outputs": [
    {
     "name": "stdout",
     "output_type": "stream",
     "text": [
      "\n",
      "Contains data from summary.dta\n",
      " Observations:           204                  \n",
      "    Variables:            21                  27 Aug 2025 16:25\n",
      "-------------------------------------------------------------------------------\n",
      "Variable      Storage   Display    Value\n",
      "    name         type    format    label      Variable label\n",
      "-------------------------------------------------------------------------------\n",
      "ID              long    %10.0g                Participant Identifier\n",
      "cohort          float   %9.0g                 Study Cohort\n",
      "registered      float   %9.0g      status     Registered to Intervention\n",
      "activated       float   %9.0g      yn         Activated (exposed) to\n",
      "                                                Intervention\n",
      "totalmins       double  %10.0g                Total activity (minutes)\n",
      "logindays       byte    %10.0g                No of login on different days\n",
      "loginwks        byte    %10.0g                No of weeks with login\n",
      "pageviews       int     %10.0g                Page view\n",
      "posts           byte    %10.0g                Post on forums\n",
      "ptp             float   %9.0g                 Peer to Peer Posts\n",
      "ate             float   %9.0g                 Ask the Experts Posts\n",
      "totaldays       float   %9.0g                 Total Days Intervention could\n",
      "                                                have been used (screening to\n",
      "                                                lastdt)\n",
      "dur_wkpv        float   %9.0g                 Pageviews - Weeks between first\n",
      "                                                and last count > 0\n",
      "dur_ptp         float   %9.0g                 PtP - Weeks between first and\n",
      "                                                last count > 0\n",
      "dur_ate         float   %9.0g                 AtE - Weeks between first and\n",
      "                                                last count > 0\n",
      "sdwkpv          float   %10.0g                (Variation) SD of Weekly\n",
      "                                                Pageviews\n",
      "sdptp           float   %10.0g                (Variation) SD of Weekly PtP\n",
      "                                                Posts\n",
      "sdate           float   %10.0g                (Variation) SD of Weekly AtE\n",
      "                                                Posts\n",
      "rate_wkpv       float   %9.0g                 Pageviews - Proportion of Weeks\n",
      "                                                Active\n",
      "rate_ptp        float   %9.0g                 PtP - Proportion of Weeks Active\n",
      "rate_ate        float   %9.0g                 AtE - Proportion of Weeks Active\n",
      "-------------------------------------------------------------------------------\n",
      "Sorted by: ID\n",
      "     Note: Dataset has changed since last saved.\n"
     ]
    }
   ],
   "source": [
    "describe"
   ]
  },
  {
   "cell_type": "code",
   "execution_count": 12,
   "id": "5c43b0ef",
   "metadata": {},
   "outputs": [
    {
     "data": {
      "text/html": [
       "<div>\n",
       "<style scoped>\n",
       "    .dataframe tbody tr th:only-of-type {\n",
       "        vertical-align: middle;\n",
       "    }\n",
       "\n",
       "    .dataframe tbody tr th {\n",
       "        vertical-align: top;\n",
       "    }\n",
       "\n",
       "    .dataframe thead th {\n",
       "        text-align: right;\n",
       "    }\n",
       "</style>\n",
       "<table border=\"1\" class=\"dataframe\">\n",
       "  <thead>\n",
       "    <tr style=\"text-align: right;\">\n",
       "      <th></th>\n",
       "      <th>ID</th>\n",
       "      <th>cohort</th>\n",
       "      <th>registered</th>\n",
       "      <th>activated</th>\n",
       "      <th>totalmins</th>\n",
       "      <th>logindays</th>\n",
       "      <th>loginwks</th>\n",
       "      <th>pageviews</th>\n",
       "      <th>posts</th>\n",
       "      <th>ptp</th>\n",
       "      <th>ate</th>\n",
       "      <th>totaldays</th>\n",
       "      <th>dur_wkpv</th>\n",
       "      <th>dur_ptp</th>\n",
       "      <th>dur_ate</th>\n",
       "      <th>sdwkpv</th>\n",
       "      <th>sdptp</th>\n",
       "      <th>sdate</th>\n",
       "      <th>rate_wkpv</th>\n",
       "      <th>rate_ptp</th>\n",
       "      <th>rate_ate</th>\n",
       "    </tr>\n",
       "  </thead>\n",
       "  <tbody>\n",
       "    <tr>\n",
       "      <th>1</th>\n",
       "      <td>1</td>\n",
       "      <td>1</td>\n",
       "      <td>1</td>\n",
       "      <td>1</td>\n",
       "      <td>3</td>\n",
       "      <td>1</td>\n",
       "      <td>1</td>\n",
       "      <td>1</td>\n",
       "      <td>0</td>\n",
       "      <td>0</td>\n",
       "      <td>0</td>\n",
       "      <td>18</td>\n",
       "      <td>1</td>\n",
       "      <td>0</td>\n",
       "      <td>0</td>\n",
       "      <td>.23570226</td>\n",
       "      <td>0</td>\n",
       "      <td>0</td>\n",
       "      <td>1</td>\n",
       "      <td>0</td>\n",
       "      <td>0</td>\n",
       "    </tr>\n",
       "    <tr>\n",
       "      <th>2</th>\n",
       "      <td>4</td>\n",
       "      <td>6</td>\n",
       "      <td>1</td>\n",
       "      <td>1</td>\n",
       "      <td>176.91667</td>\n",
       "      <td>.</td>\n",
       "      <td>6</td>\n",
       "      <td>206</td>\n",
       "      <td>2</td>\n",
       "      <td>0</td>\n",
       "      <td>2</td>\n",
       "      <td>93</td>\n",
       "      <td>10</td>\n",
       "      <td>0</td>\n",
       "      <td>2</td>\n",
       "      <td>22.708439</td>\n",
       "      <td>0</td>\n",
       "      <td>.32338083</td>\n",
       "      <td>.6</td>\n",
       "      <td>0</td>\n",
       "      <td>1</td>\n",
       "    </tr>\n",
       "    <tr>\n",
       "      <th>3</th>\n",
       "      <td>8</td>\n",
       "      <td>2</td>\n",
       "      <td>1</td>\n",
       "      <td>1</td>\n",
       "      <td>4.95</td>\n",
       "      <td>1</td>\n",
       "      <td>1</td>\n",
       "      <td>4</td>\n",
       "      <td>0</td>\n",
       "      <td>0</td>\n",
       "      <td>0</td>\n",
       "      <td>10</td>\n",
       "      <td>1</td>\n",
       "      <td>0</td>\n",
       "      <td>0</td>\n",
       "      <td>.94280905</td>\n",
       "      <td>0</td>\n",
       "      <td>0</td>\n",
       "      <td>1</td>\n",
       "      <td>0</td>\n",
       "      <td>0</td>\n",
       "    </tr>\n",
       "    <tr>\n",
       "      <th>4</th>\n",
       "      <td>11</td>\n",
       "      <td>3</td>\n",
       "      <td>1</td>\n",
       "      <td>1</td>\n",
       "      <td>243.75</td>\n",
       "      <td>24</td>\n",
       "      <td>12</td>\n",
       "      <td>403</td>\n",
       "      <td>5</td>\n",
       "      <td>0</td>\n",
       "      <td>5</td>\n",
       "      <td>94</td>\n",
       "      <td>14</td>\n",
       "      <td>0</td>\n",
       "      <td>11</td>\n",
       "      <td>37.23872</td>\n",
       "      <td>0</td>\n",
       "      <td>.66911316</td>\n",
       "      <td>.8571429</td>\n",
       "      <td>0</td>\n",
       "      <td>.2727273</td>\n",
       "    </tr>\n",
       "    <tr>\n",
       "      <th>5</th>\n",
       "      <td>13</td>\n",
       "      <td>6</td>\n",
       "      <td>1</td>\n",
       "      <td>1</td>\n",
       "      <td>44.783333</td>\n",
       "      <td>.</td>\n",
       "      <td>2</td>\n",
       "      <td>308</td>\n",
       "      <td>0</td>\n",
       "      <td>0</td>\n",
       "      <td>0</td>\n",
       "      <td>21</td>\n",
       "      <td>3</td>\n",
       "      <td>0</td>\n",
       "      <td>0</td>\n",
       "      <td>41.356255</td>\n",
       "      <td>0</td>\n",
       "      <td>0</td>\n",
       "      <td>1</td>\n",
       "      <td>0</td>\n",
       "      <td>0</td>\n",
       "    </tr>\n",
       "  </tbody>\n",
       "</table>\n",
       "</div>"
      ]
     },
     "metadata": {},
     "output_type": "display_data"
    }
   ],
   "source": [
    "%head"
   ]
  }
 ],
 "metadata": {
  "kernelspec": {
   "display_name": "Stata (nbstata)",
   "language": "stata",
   "name": "nbstata"
  },
  "language_info": {
   "file_extension": ".do",
   "mimetype": "text/x-stata",
   "name": "stata",
   "version": "17"
  }
 },
 "nbformat": 4,
 "nbformat_minor": 5
}
