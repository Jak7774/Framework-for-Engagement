{
 "cells": [
  {
   "cell_type": "markdown",
   "id": "7e7fca5a",
   "metadata": {},
   "source": [
    "# Identify Engagement Profile\n",
    "\n",
    "## Step 4 - Identify Engagement Profile\n",
    "In this step, the specified K-means analysis described in `Step 3` is implemented. Here is the code for how the cluster analysis was performed to determine the number of groups using the indicator variables. Below are the stages to implement this analysis. "
   ]
  },
  {
   "cell_type": "markdown",
   "id": "3188558a",
   "metadata": {},
   "source": [
    "#### 1 - Load Relevant Packages"
   ]
  },
  {
   "cell_type": "code",
   "execution_count": 1,
   "id": "13e0a24e",
   "metadata": {
    "vscode": {
     "languageId": "r"
    }
   },
   "outputs": [
    {
     "name": "stderr",
     "output_type": "stream",
     "text": [
      "Warning message:\n",
      "\"package 'dplyr' was built under R version 4.4.3\"\n",
      "\n",
      "Attaching package: 'dplyr'\n",
      "\n",
      "\n",
      "The following objects are masked from 'package:stats':\n",
      "\n",
      "    filter, lag\n",
      "\n",
      "\n",
      "The following objects are masked from 'package:base':\n",
      "\n",
      "    intersect, setdiff, setequal, union\n",
      "\n",
      "\n",
      "Loading required package: ggplot2\n",
      "\n",
      "Welcome! Want to learn more? See two factoextra-related books at https://goo.gl/ve3WBa\n",
      "\n",
      "\n",
      "Attaching package: 'plotly'\n",
      "\n",
      "\n",
      "The following object is masked from 'package:ggplot2':\n",
      "\n",
      "    last_plot\n",
      "\n",
      "\n",
      "The following object is masked from 'package:stats':\n",
      "\n",
      "    filter\n",
      "\n",
      "\n",
      "The following object is masked from 'package:graphics':\n",
      "\n",
      "    layout\n",
      "\n",
      "\n",
      "Warning message:\n",
      "\"package 'patchwork' was built under R version 4.4.3\"\n"
     ]
    }
   ],
   "source": [
    "invisible({ # Hide Package Loadings\n",
    "\n",
    "    # ---- Packages for Data Management\n",
    "    library(haven) # Read In Stata Files\n",
    "    library(dplyr)\n",
    "    library(foreign)\n",
    "    library(naniar) # Missing Data\n",
    "\n",
    "    # ---- Additional Packages for Cluster analysis\n",
    "    library(factoextra)\n",
    "    library(naniar)\n",
    "    library(plotly)\n",
    "    library(cluster)\n",
    "    library(fpc)\n",
    "    library(patchwork)  # For combining ggplots\n",
    "})"
   ]
  },
  {
   "cell_type": "markdown",
   "id": "56e9bf1a",
   "metadata": {},
   "source": [
    "### 2 - Import the data\n",
    "The data for the COPe-Support arm is imported, and scaled as magnitude has a big influence on the clustering. For individuals with a single missing value these are replaced by the mean for that variable. "
   ]
  },
  {
   "cell_type": "code",
   "execution_count": 2,
   "id": "99456389",
   "metadata": {
    "vscode": {
     "languageId": "r"
    }
   },
   "outputs": [
    {
     "name": "stderr",
     "output_type": "stream",
     "text": [
      "Warning message:\n",
      "\"\u001b[1m\u001b[22mUsing an external vector in selections was deprecated in tidyselect 1.1.0.\n",
      "\u001b[36mℹ\u001b[39m Please use `all_of()` or `any_of()` instead.\n",
      "  # Was:\n",
      "  data %>% select(fnames)\n",
      "\n",
      "  # Now:\n",
      "  data %>% select(all_of(fnames))\n",
      "\n",
      "See <https://tidyselect.r-lib.org/reference/faq-external-vector.html>.\"\n"
     ]
    }
   ],
   "source": [
    "# Import Data\n",
    "source(\"Folders.R\") # Load Folder String Paths\n",
    "setwd(Derived) # Change to Folder String called Derived\n",
    "\n",
    "cope.data <- read_dta(\"COPE_Final_Indicators.dta\") \n",
    "\n",
    "# Converting categorical variables to factors\n",
    "fnames <- c(\"cohort\", \"registered\", \"activated\")\n",
    "cope.data <- cope.data %>% mutate_at(vars(fnames), as.factor)\n",
    "\n",
    "# Tidy up missing data in one variable for two people - use mean imputation\n",
    "cope.data <- cope.data %>%\n",
    "  mutate(totaldays = if_else(ID == 166 & is.na(totaldays), \n",
    "                             mean(totaldays, na.rm = TRUE), \n",
    "                             totaldays)) -> cope.data\n",
    "\n",
    "# Now same thing but for multiple variables for one person\n",
    "cope.data <- cope.data %>%\n",
    "  mutate_at(vars(loginwks, pageviews, dur_wkpv, rate_wkpv, posts, act_wkpv), \n",
    "            ~if_else(is.na(.) & ID == 283, mean(., na.rm = TRUE), .)) -> cope.data\n",
    "\n",
    "# Must be numeric, drop other variables not indicator variables\n",
    "dropnames <- c(\"ID\", \"cohort\", \"posts\", \"act_wkpv\", \"act_ptp\", \"act_ate\", \"complete\")\n",
    "cope.final <- cope.data[,!(names(cope.data) %in% dropnames)]\n",
    "cope.final <- cope.final %>% mutate_at(vars(c(\"registered\", \"activated\")), as.numeric)\n",
    "\n",
    "# Subset to Complete Case (known issue with logindays)\n",
    "cope.final <- cope.final[complete.cases(cope.final),]\n",
    "scaled <- scale(cope.final)"
   ]
  },
  {
   "cell_type": "code",
   "execution_count": 3,
   "id": "d6bcdfdd",
   "metadata": {
    "vscode": {
     "languageId": "r"
    }
   },
   "outputs": [
    {
     "data": {
      "text/html": [
       "<table class=\"dataframe\">\n",
       "<caption>A matrix: 6 × 18 of type dbl</caption>\n",
       "<thead>\n",
       "\t<tr><th scope=col>registered</th><th scope=col>activated</th><th scope=col>totalmins</th><th scope=col>logindays</th><th scope=col>loginwks</th><th scope=col>pageviews</th><th scope=col>ptp</th><th scope=col>ate</th><th scope=col>totaldays</th><th scope=col>dur_wkpv</th><th scope=col>dur_ptp</th><th scope=col>dur_ate</th><th scope=col>sdwkpv</th><th scope=col>sdptp</th><th scope=col>sdate</th><th scope=col>rate_wkpv</th><th scope=col>rate_ptp</th><th scope=col>rate_ate</th></tr>\n",
       "</thead>\n",
       "<tbody>\n",
       "\t<tr><td>0.5048068</td><td>0.5157236</td><td>-0.46664906</td><td>-0.5359297</td><td>-0.7077796</td><td>-0.57973059</td><td>-0.371331857</td><td>-0.4136820</td><td>-0.7520096</td><td>-0.8849915</td><td>-0.33650059</td><td>-0.4017578</td><td>-0.69780160</td><td>-0.3997715</td><td>-0.4328030</td><td> 1.1638049</td><td>-0.4698263</td><td>-0.5079972</td></tr>\n",
       "\t<tr><td>0.5048068</td><td>0.5157236</td><td>-0.46153382</td><td>-0.5359297</td><td>-0.7077796</td><td>-0.57278040</td><td>-0.371331857</td><td>-0.4136820</td><td>-0.9236558</td><td>-0.8849915</td><td>-0.33650059</td><td>-0.4017578</td><td>-0.67768759</td><td>-0.3997715</td><td>-0.4328030</td><td> 1.1638049</td><td>-0.4698263</td><td>-0.5079972</td></tr>\n",
       "\t<tr><td>0.5048068</td><td>0.5157236</td><td> 0.16488627</td><td> 1.0922994</td><td> 1.6038276</td><td> 0.35159534</td><td>-0.371331857</td><td> 1.0697231</td><td> 0.8786289</td><td> 1.0097800</td><td>-0.33650059</td><td> 2.5444659</td><td> 0.35476779</td><td>-0.3997715</td><td> 1.1132522</td><td> 0.7880942</td><td>-0.4698263</td><td> 0.3176518</td></tr>\n",
       "\t<tr><td>0.5048068</td><td>0.5157236</td><td> 0.29849457</td><td> 0.8091292</td><td> 1.1835354</td><td> 0.86127620</td><td> 1.511851131</td><td> 0.4763611</td><td> 0.8357173</td><td> 1.0097800</td><td> 1.11147163</td><td>-0.1339193</td><td> 0.31201587</td><td> 1.7353558</td><td> 1.2010403</td><td> 0.4123836</td><td> 1.2993173</td><td> 2.5193824</td></tr>\n",
       "\t<tr><td>0.5048068</td><td>0.5157236</td><td> 0.97825305</td><td> 0.3843737</td><td> 1.1835354</td><td> 0.10138837</td><td> 0.758577936</td><td> 4.0365332</td><td> 1.1790097</td><td> 1.3012833</td><td> 3.71782162</td><td> 3.3479815</td><td> 0.01710502</td><td> 0.6891761</td><td> 3.2205819</td><td> 0.1775644</td><td> 0.1620107</td><td> 0.5732099</td></tr>\n",
       "\t<tr><td>0.5048068</td><td>0.5157236</td><td> 0.08304244</td><td> 0.3135812</td><td> 0.7632432</td><td>-0.01908165</td><td> 0.005304741</td><td>-0.1170010</td><td> 1.1790097</td><td> 1.4470349</td><td>-0.04690614</td><td>-0.1339193</td><td>-0.02389157</td><td> 0.2695353</td><td> 0.1118115</td><td>-0.2285346</td><td> 2.4787462</td><td> 2.5193824</td></tr>\n",
       "</tbody>\n",
       "</table>\n"
      ],
      "text/latex": [
       "A matrix: 6 × 18 of type dbl\n",
       "\\begin{tabular}{llllllllllllllllll}\n",
       " registered & activated & totalmins & logindays & loginwks & pageviews & ptp & ate & totaldays & dur\\_wkpv & dur\\_ptp & dur\\_ate & sdwkpv & sdptp & sdate & rate\\_wkpv & rate\\_ptp & rate\\_ate\\\\\n",
       "\\hline\n",
       "\t 0.5048068 & 0.5157236 & -0.46664906 & -0.5359297 & -0.7077796 & -0.57973059 & -0.371331857 & -0.4136820 & -0.7520096 & -0.8849915 & -0.33650059 & -0.4017578 & -0.69780160 & -0.3997715 & -0.4328030 &  1.1638049 & -0.4698263 & -0.5079972\\\\\n",
       "\t 0.5048068 & 0.5157236 & -0.46153382 & -0.5359297 & -0.7077796 & -0.57278040 & -0.371331857 & -0.4136820 & -0.9236558 & -0.8849915 & -0.33650059 & -0.4017578 & -0.67768759 & -0.3997715 & -0.4328030 &  1.1638049 & -0.4698263 & -0.5079972\\\\\n",
       "\t 0.5048068 & 0.5157236 &  0.16488627 &  1.0922994 &  1.6038276 &  0.35159534 & -0.371331857 &  1.0697231 &  0.8786289 &  1.0097800 & -0.33650059 &  2.5444659 &  0.35476779 & -0.3997715 &  1.1132522 &  0.7880942 & -0.4698263 &  0.3176518\\\\\n",
       "\t 0.5048068 & 0.5157236 &  0.29849457 &  0.8091292 &  1.1835354 &  0.86127620 &  1.511851131 &  0.4763611 &  0.8357173 &  1.0097800 &  1.11147163 & -0.1339193 &  0.31201587 &  1.7353558 &  1.2010403 &  0.4123836 &  1.2993173 &  2.5193824\\\\\n",
       "\t 0.5048068 & 0.5157236 &  0.97825305 &  0.3843737 &  1.1835354 &  0.10138837 &  0.758577936 &  4.0365332 &  1.1790097 &  1.3012833 &  3.71782162 &  3.3479815 &  0.01710502 &  0.6891761 &  3.2205819 &  0.1775644 &  0.1620107 &  0.5732099\\\\\n",
       "\t 0.5048068 & 0.5157236 &  0.08304244 &  0.3135812 &  0.7632432 & -0.01908165 &  0.005304741 & -0.1170010 &  1.1790097 &  1.4470349 & -0.04690614 & -0.1339193 & -0.02389157 &  0.2695353 &  0.1118115 & -0.2285346 &  2.4787462 &  2.5193824\\\\\n",
       "\\end{tabular}\n"
      ],
      "text/markdown": [
       "\n",
       "A matrix: 6 × 18 of type dbl\n",
       "\n",
       "| registered | activated | totalmins | logindays | loginwks | pageviews | ptp | ate | totaldays | dur_wkpv | dur_ptp | dur_ate | sdwkpv | sdptp | sdate | rate_wkpv | rate_ptp | rate_ate |\n",
       "|---|---|---|---|---|---|---|---|---|---|---|---|---|---|---|---|---|---|\n",
       "| 0.5048068 | 0.5157236 | -0.46664906 | -0.5359297 | -0.7077796 | -0.57973059 | -0.371331857 | -0.4136820 | -0.7520096 | -0.8849915 | -0.33650059 | -0.4017578 | -0.69780160 | -0.3997715 | -0.4328030 |  1.1638049 | -0.4698263 | -0.5079972 |\n",
       "| 0.5048068 | 0.5157236 | -0.46153382 | -0.5359297 | -0.7077796 | -0.57278040 | -0.371331857 | -0.4136820 | -0.9236558 | -0.8849915 | -0.33650059 | -0.4017578 | -0.67768759 | -0.3997715 | -0.4328030 |  1.1638049 | -0.4698263 | -0.5079972 |\n",
       "| 0.5048068 | 0.5157236 |  0.16488627 |  1.0922994 |  1.6038276 |  0.35159534 | -0.371331857 |  1.0697231 |  0.8786289 |  1.0097800 | -0.33650059 |  2.5444659 |  0.35476779 | -0.3997715 |  1.1132522 |  0.7880942 | -0.4698263 |  0.3176518 |\n",
       "| 0.5048068 | 0.5157236 |  0.29849457 |  0.8091292 |  1.1835354 |  0.86127620 |  1.511851131 |  0.4763611 |  0.8357173 |  1.0097800 |  1.11147163 | -0.1339193 |  0.31201587 |  1.7353558 |  1.2010403 |  0.4123836 |  1.2993173 |  2.5193824 |\n",
       "| 0.5048068 | 0.5157236 |  0.97825305 |  0.3843737 |  1.1835354 |  0.10138837 |  0.758577936 |  4.0365332 |  1.1790097 |  1.3012833 |  3.71782162 |  3.3479815 |  0.01710502 |  0.6891761 |  3.2205819 |  0.1775644 |  0.1620107 |  0.5732099 |\n",
       "| 0.5048068 | 0.5157236 |  0.08304244 |  0.3135812 |  0.7632432 | -0.01908165 |  0.005304741 | -0.1170010 |  1.1790097 |  1.4470349 | -0.04690614 | -0.1339193 | -0.02389157 |  0.2695353 |  0.1118115 | -0.2285346 |  2.4787462 |  2.5193824 |\n",
       "\n"
      ],
      "text/plain": [
       "     registered activated totalmins   logindays  loginwks   pageviews  \n",
       "[1,] 0.5048068  0.5157236 -0.46664906 -0.5359297 -0.7077796 -0.57973059\n",
       "[2,] 0.5048068  0.5157236 -0.46153382 -0.5359297 -0.7077796 -0.57278040\n",
       "[3,] 0.5048068  0.5157236  0.16488627  1.0922994  1.6038276  0.35159534\n",
       "[4,] 0.5048068  0.5157236  0.29849457  0.8091292  1.1835354  0.86127620\n",
       "[5,] 0.5048068  0.5157236  0.97825305  0.3843737  1.1835354  0.10138837\n",
       "[6,] 0.5048068  0.5157236  0.08304244  0.3135812  0.7632432 -0.01908165\n",
       "     ptp          ate        totaldays  dur_wkpv   dur_ptp     dur_ate   \n",
       "[1,] -0.371331857 -0.4136820 -0.7520096 -0.8849915 -0.33650059 -0.4017578\n",
       "[2,] -0.371331857 -0.4136820 -0.9236558 -0.8849915 -0.33650059 -0.4017578\n",
       "[3,] -0.371331857  1.0697231  0.8786289  1.0097800 -0.33650059  2.5444659\n",
       "[4,]  1.511851131  0.4763611  0.8357173  1.0097800  1.11147163 -0.1339193\n",
       "[5,]  0.758577936  4.0365332  1.1790097  1.3012833  3.71782162  3.3479815\n",
       "[6,]  0.005304741 -0.1170010  1.1790097  1.4470349 -0.04690614 -0.1339193\n",
       "     sdwkpv      sdptp      sdate      rate_wkpv  rate_ptp   rate_ate  \n",
       "[1,] -0.69780160 -0.3997715 -0.4328030  1.1638049 -0.4698263 -0.5079972\n",
       "[2,] -0.67768759 -0.3997715 -0.4328030  1.1638049 -0.4698263 -0.5079972\n",
       "[3,]  0.35476779 -0.3997715  1.1132522  0.7880942 -0.4698263  0.3176518\n",
       "[4,]  0.31201587  1.7353558  1.2010403  0.4123836  1.2993173  2.5193824\n",
       "[5,]  0.01710502  0.6891761  3.2205819  0.1775644  0.1620107  0.5732099\n",
       "[6,] -0.02389157  0.2695353  0.1118115 -0.2285346  2.4787462  2.5193824"
      ]
     },
     "metadata": {},
     "output_type": "display_data"
    }
   ],
   "source": [
    "head(scaled)"
   ]
  },
  {
   "cell_type": "markdown",
   "id": "4a648bd0",
   "metadata": {},
   "source": [
    "### 3 - Choose Best K Value\n",
    "Initially, to find the best value of K the range (2 to 10) is iterated through. The K-means cluster is applied then the average Silhouette score is calculated. The final K taken forward will be the one with the highest mean value. This will then be assessed visually to ensure the Silhouette scores for individual observations across the groups is also reasonable (i.e. few negative values and group widths are reasonable)."
   ]
  },
  {
   "cell_type": "code",
   "execution_count": 4,
   "metadata": {
    "vscode": {
     "languageId": "r"
    }
   },
   "outputs": [
    {
     "data": {
      "text/html": [
       "4"
      ],
      "text/latex": [
       "4"
      ],
      "text/markdown": [
       "4"
      ],
      "text/plain": [
       "[1] 4"
      ]
     },
     "metadata": {},
     "output_type": "display_data"
    },
    {
     "data": {
      "image/png": "[encoded data removed]",
      "text/plain": [
       "plot without title"
      ]
     },
     "metadata": {
      "image/png": {
       "height": 420,
       "width": 420
      }
     },
     "output_type": "display_data"
    }
   ],
   "source": [
    "# -------------------------------------------------------\n",
    "# ---------- Set Function to Choose K\n",
    "# -------------------------------------------------------\n",
    "\n",
    "silhouette_score <- function(k, data=scaled){\n",
    "  km <- kmeans(data, centers = k, iter.max = 1000, nstart = 100)\n",
    "  ss <- silhouette(km$cluster, dist(data))\n",
    "  mean(ss[, 3])\n",
    "}\n",
    "\n",
    "k <- 2:10 # Specified Range of K\n",
    "\n",
    "# -------------------------------------------------------\n",
    "# ---------- Loop through K to find best\n",
    "# -------------------------------------------------------\n",
    "\n",
    "avg_sil <- sapply(k, silhouette_score)\n",
    "par(bg = \"white\")  # Set background to white\n",
    "plot(k, type='b', avg_sil, xlab='Number of clusters', ylab='Average Silhouette Scores', frame=FALSE)\n",
    "final_k = which.max(avg_sil) + 1\n",
    "final_k ## Optimal is 4 clusters"
   ]
  },
  {
   "cell_type": "markdown",
   "id": "0ab06637",
   "metadata": {},
   "source": [
    "### 3 - Run K-Means\n",
    "With the final value of K selected, which is 4, this is then entered again into the K-means cluster algorithm to generate all the additional checks. This includes checking the number in each group and the means across the groups as well. "
   ]
  },
  {
   "cell_type": "code",
   "execution_count": 5,
   "id": "ad52c46b",
   "metadata": {
    "vscode": {
     "languageId": "r"
    }
   },
   "outputs": [
    {
     "data": {
      "text/html": [
       "<style>\n",
       ".list-inline {list-style: none; margin:0; padding: 0}\n",
       ".list-inline>li {display: inline-block}\n",
       ".list-inline>li:not(:last-child)::after {content: \"\\00b7\"; padding: 0 .5ex}\n",
       "</style>\n",
       "<ol class=list-inline><li>1</li><li>1</li><li>3</li><li>3</li><li>2</li><li>3</li><li>1</li><li>4</li><li>2</li><li>4</li><li>1</li><li>4</li><li>4</li><li>1</li><li>4</li><li>1</li><li>1</li><li>1</li><li>1</li><li>4</li><li>1</li><li>3</li><li>4</li><li>3</li><li>4</li><li>1</li><li>1</li><li>1</li><li>1</li><li>3</li><li>3</li><li>4</li><li>4</li><li>2</li><li>1</li><li>2</li><li>4</li><li>1</li><li>1</li><li>4</li><li>4</li><li>1</li><li>1</li><li>2</li><li>1</li><li>1</li><li>3</li><li>1</li><li>1</li><li>4</li><li>3</li><li>3</li><li>1</li><li>2</li><li>1</li><li>1</li><li>1</li><li>1</li><li>1</li><li>1</li><li>3</li><li>3</li><li>1</li><li>1</li><li>4</li><li>1</li><li>1</li><li>1</li><li>3</li><li>1</li><li>4</li><li>4</li><li>3</li><li>1</li><li>1</li><li>3</li><li>1</li><li>4</li><li>3</li><li>2</li><li>4</li><li>1</li><li>1</li><li>3</li><li>1</li><li>1</li><li>4</li><li>1</li><li>3</li><li>1</li><li>4</li><li>1</li><li>3</li><li>2</li><li>4</li><li>1</li><li>3</li><li>3</li><li>4</li><li>3</li><li>1</li><li>3</li><li>4</li><li>1</li><li>1</li><li>1</li><li>1</li><li>1</li><li>3</li><li>4</li><li>1</li><li>1</li><li>2</li><li>3</li><li>3</li><li>1</li><li>3</li><li>1</li><li>1</li><li>1</li><li>1</li><li>4</li><li>3</li><li>3</li><li>3</li><li>1</li><li>1</li><li>4</li><li>1</li><li>3</li><li>1</li><li>3</li><li>2</li><li>4</li><li>3</li><li>1</li><li>4</li><li>1</li><li>1</li><li>4</li><li>1</li><li>1</li></ol>\n"
      ],
      "text/latex": [
       "\\begin{enumerate*}\n",
       "\\item 1\n",
       "\\item 1\n",
       "\\item 3\n",
       "\\item 3\n",
       "\\item 2\n",
       "\\item 3\n",
       "\\item 1\n",
       "\\item 4\n",
       "\\item 2\n",
       "\\item 4\n",
       "\\item 1\n",
       "\\item 4\n",
       "\\item 4\n",
       "\\item 1\n",
       "\\item 4\n",
       "\\item 1\n",
       "\\item 1\n",
       "\\item 1\n",
       "\\item 1\n",
       "\\item 4\n",
       "\\item 1\n",
       "\\item 3\n",
       "\\item 4\n",
       "\\item 3\n",
       "\\item 4\n",
       "\\item 1\n",
       "\\item 1\n",
       "\\item 1\n",
       "\\item 1\n",
       "\\item 3\n",
       "\\item 3\n",
       "\\item 4\n",
       "\\item 4\n",
       "\\item 2\n",
       "\\item 1\n",
       "\\item 2\n",
       "\\item 4\n",
       "\\item 1\n",
       "\\item 1\n",
       "\\item 4\n",
       "\\item 4\n",
       "\\item 1\n",
       "\\item 1\n",
       "\\item 2\n",
       "\\item 1\n",
       "\\item 1\n",
       "\\item 3\n",
       "\\item 1\n",
       "\\item 1\n",
       "\\item 4\n",
       "\\item 3\n",
       "\\item 3\n",
       "\\item 1\n",
       "\\item 2\n",
       "\\item 1\n",
       "\\item 1\n",
       "\\item 1\n",
       "\\item 1\n",
       "\\item 1\n",
       "\\item 1\n",
       "\\item 3\n",
       "\\item 3\n",
       "\\item 1\n",
       "\\item 1\n",
       "\\item 4\n",
       "\\item 1\n",
       "\\item 1\n",
       "\\item 1\n",
       "\\item 3\n",
       "\\item 1\n",
       "\\item 4\n",
       "\\item 4\n",
       "\\item 3\n",
       "\\item 1\n",
       "\\item 1\n",
       "\\item 3\n",
       "\\item 1\n",
       "\\item 4\n",
       "\\item 3\n",
       "\\item 2\n",
       "\\item 4\n",
       "\\item 1\n",
       "\\item 1\n",
       "\\item 3\n",
       "\\item 1\n",
       "\\item 1\n",
       "\\item 4\n",
       "\\item 1\n",
       "\\item 3\n",
       "\\item 1\n",
       "\\item 4\n",
       "\\item 1\n",
       "\\item 3\n",
       "\\item 2\n",
       "\\item 4\n",
       "\\item 1\n",
       "\\item 3\n",
       "\\item 3\n",
       "\\item 4\n",
       "\\item 3\n",
       "\\item 1\n",
       "\\item 3\n",
       "\\item 4\n",
       "\\item 1\n",
       "\\item 1\n",
       "\\item 1\n",
       "\\item 1\n",
       "\\item 1\n",
       "\\item 3\n",
       "\\item 4\n",
       "\\item 1\n",
       "\\item 1\n",
       "\\item 2\n",
       "\\item 3\n",
       "\\item 3\n",
       "\\item 1\n",
       "\\item 3\n",
       "\\item 1\n",
       "\\item 1\n",
       "\\item 1\n",
       "\\item 1\n",
       "\\item 4\n",
       "\\item 3\n",
       "\\item 3\n",
       "\\item 3\n",
       "\\item 1\n",
       "\\item 1\n",
       "\\item 4\n",
       "\\item 1\n",
       "\\item 3\n",
       "\\item 1\n",
       "\\item 3\n",
       "\\item 2\n",
       "\\item 4\n",
       "\\item 3\n",
       "\\item 1\n",
       "\\item 4\n",
       "\\item 1\n",
       "\\item 1\n",
       "\\item 4\n",
       "\\item 1\n",
       "\\item 1\n",
       "\\end{enumerate*}\n"
      ],
      "text/markdown": [
       "1. 1\n",
       "2. 1\n",
       "3. 3\n",
       "4. 3\n",
       "5. 2\n",
       "6. 3\n",
       "7. 1\n",
       "8. 4\n",
       "9. 2\n",
       "10. 4\n",
       "11. 1\n",
       "12. 4\n",
       "13. 4\n",
       "14. 1\n",
       "15. 4\n",
       "16. 1\n",
       "17. 1\n",
       "18. 1\n",
       "19. 1\n",
       "20. 4\n",
       "21. 1\n",
       "22. 3\n",
       "23. 4\n",
       "24. 3\n",
       "25. 4\n",
       "26. 1\n",
       "27. 1\n",
       "28. 1\n",
       "29. 1\n",
       "30. 3\n",
       "31. 3\n",
       "32. 4\n",
       "33. 4\n",
       "34. 2\n",
       "35. 1\n",
       "36. 2\n",
       "37. 4\n",
       "38. 1\n",
       "39. 1\n",
       "40. 4\n",
       "41. 4\n",
       "42. 1\n",
       "43. 1\n",
       "44. 2\n",
       "45. 1\n",
       "46. 1\n",
       "47. 3\n",
       "48. 1\n",
       "49. 1\n",
       "50. 4\n",
       "51. 3\n",
       "52. 3\n",
       "53. 1\n",
       "54. 2\n",
       "55. 1\n",
       "56. 1\n",
       "57. 1\n",
       "58. 1\n",
       "59. 1\n",
       "60. 1\n",
       "61. 3\n",
       "62. 3\n",
       "63. 1\n",
       "64. 1\n",
       "65. 4\n",
       "66. 1\n",
       "67. 1\n",
       "68. 1\n",
       "69. 3\n",
       "70. 1\n",
       "71. 4\n",
       "72. 4\n",
       "73. 3\n",
       "74. 1\n",
       "75. 1\n",
       "76. 3\n",
       "77. 1\n",
       "78. 4\n",
       "79. 3\n",
       "80. 2\n",
       "81. 4\n",
       "82. 1\n",
       "83. 1\n",
       "84. 3\n",
       "85. 1\n",
       "86. 1\n",
       "87. 4\n",
       "88. 1\n",
       "89. 3\n",
       "90. 1\n",
       "91. 4\n",
       "92. 1\n",
       "93. 3\n",
       "94. 2\n",
       "95. 4\n",
       "96. 1\n",
       "97. 3\n",
       "98. 3\n",
       "99. 4\n",
       "100. 3\n",
       "101. 1\n",
       "102. 3\n",
       "103. 4\n",
       "104. 1\n",
       "105. 1\n",
       "106. 1\n",
       "107. 1\n",
       "108. 1\n",
       "109. 3\n",
       "110. 4\n",
       "111. 1\n",
       "112. 1\n",
       "113. 2\n",
       "114. 3\n",
       "115. 3\n",
       "116. 1\n",
       "117. 3\n",
       "118. 1\n",
       "119. 1\n",
       "120. 1\n",
       "121. 1\n",
       "122. 4\n",
       "123. 3\n",
       "124. 3\n",
       "125. 3\n",
       "126. 1\n",
       "127. 1\n",
       "128. 4\n",
       "129. 1\n",
       "130. 3\n",
       "131. 1\n",
       "132. 3\n",
       "133. 2\n",
       "134. 4\n",
       "135. 3\n",
       "136. 1\n",
       "137. 4\n",
       "138. 1\n",
       "139. 1\n",
       "140. 4\n",
       "141. 1\n",
       "142. 1\n",
       "\n",
       "\n"
      ],
      "text/plain": [
       "  [1] 1 1 3 3 2 3 1 4 2 4 1 4 4 1 4 1 1 1 1 4 1 3 4 3 4 1 1 1 1 3 3 4 4 2 1 2 4\n",
       " [38] 1 1 4 4 1 1 2 1 1 3 1 1 4 3 3 1 2 1 1 1 1 1 1 3 3 1 1 4 1 1 1 3 1 4 4 3 1\n",
       " [75] 1 3 1 4 3 2 4 1 1 3 1 1 4 1 3 1 4 1 3 2 4 1 3 3 4 3 1 3 4 1 1 1 1 1 3 4 1\n",
       "[112] 1 2 3 3 1 3 1 1 1 1 4 3 3 3 1 1 4 1 3 1 3 2 4 3 1 4 1 1 4 1 1"
      ]
     },
     "metadata": {},
     "output_type": "display_data"
    },
    {
     "data": {
      "text/html": [
       "<style>\n",
       ".list-inline {list-style: none; margin:0; padding: 0}\n",
       ".list-inline>li {display: inline-block}\n",
       ".list-inline>li:not(:last-child)::after {content: \"\\00b7\"; padding: 0 .5ex}\n",
       "</style>\n",
       "<ol class=list-inline><li>69</li><li>10</li><li>33</li><li>30</li></ol>\n"
      ],
      "text/latex": [
       "\\begin{enumerate*}\n",
       "\\item 69\n",
       "\\item 10\n",
       "\\item 33\n",
       "\\item 30\n",
       "\\end{enumerate*}\n"
      ],
      "text/markdown": [
       "1. 69\n",
       "2. 10\n",
       "3. 33\n",
       "4. 30\n",
       "\n",
       "\n"
      ],
      "text/plain": [
       "[1] 69 10 33 30"
      ]
     },
     "metadata": {},
     "output_type": "display_data"
    },
    {
     "data": {
      "text/html": [
       "<table class=\"dataframe\">\n",
       "<caption>A matrix: 4 × 18 of type dbl</caption>\n",
       "<thead>\n",
       "\t<tr><th></th><th scope=col>registered</th><th scope=col>activated</th><th scope=col>totalmins</th><th scope=col>logindays</th><th scope=col>loginwks</th><th scope=col>pageviews</th><th scope=col>ptp</th><th scope=col>ate</th><th scope=col>totaldays</th><th scope=col>dur_wkpv</th><th scope=col>dur_ptp</th><th scope=col>dur_ate</th><th scope=col>sdwkpv</th><th scope=col>sdptp</th><th scope=col>sdate</th><th scope=col>rate_wkpv</th><th scope=col>rate_ptp</th><th scope=col>rate_ate</th></tr>\n",
       "</thead>\n",
       "<tbody>\n",
       "\t<tr><th scope=row>1</th><td> 0.5048068</td><td> 0.5157236</td><td>-0.3357824</td><td>-0.3810068</td><td>-0.3841513</td><td>-0.3425988</td><td>-0.3440393</td><td>-0.4093823</td><td>-0.1770572</td><td>-0.274077</td><td>-0.3197125</td><td>-0.3978761</td><td>-0.2757998</td><td>-0.3573627</td><td>-0.4249100</td><td> 0.4055094</td><td>-0.3416275</td><td>-0.4641221</td></tr>\n",
       "\t<tr><th scope=row>2</th><td> 0.5048068</td><td> 0.5157236</td><td> 1.9066734</td><td> 2.4019620</td><td> 1.8139738</td><td> 2.3222069</td><td> 2.7924156</td><td> 2.7311368</td><td> 1.1468260</td><td> 1.272133</td><td> 2.7911194</td><td> 2.2230597</td><td> 2.0213291</td><td> 2.5818126</td><td> 2.6809023</td><td> 0.6336696</td><td> 1.1388564</td><td> 1.1743503</td></tr>\n",
       "\t<tr><th scope=row>3</th><td> 0.5048068</td><td> 0.5157236</td><td> 0.5556913</td><td> 0.6203490</td><td> 1.0880145</td><td> 0.5417779</td><td> 0.2107429</td><td> 0.4044384</td><td> 1.0574270</td><td> 1.124615</td><td> 0.1286056</td><td> 0.5235026</td><td> 0.6046085</td><td> 0.3282741</td><td> 0.4695109</td><td> 0.2929773</td><td> 0.7963187</td><td> 1.0763890</td></tr>\n",
       "\t<tr><th scope=row>4</th><td>-1.8846119</td><td>-1.9253681</td><td>-0.4745187</td><td>-0.6067222</td><td>-0.9179258</td><td>-0.5820473</td><td>-0.3713319</td><td>-0.4136820</td><td>-1.1382135</td><td>-1.030743</td><td>-0.3365006</td><td>-0.4017578</td><td>-0.7045063</td><td>-0.3997715</td><td>-0.4328030</td><td>-1.4661697</td><td>-0.4698263</td><td>-0.5079972</td></tr>\n",
       "</tbody>\n",
       "</table>\n"
      ],
      "text/latex": [
       "A matrix: 4 × 18 of type dbl\n",
       "\\begin{tabular}{r|llllllllllllllllll}\n",
       "  & registered & activated & totalmins & logindays & loginwks & pageviews & ptp & ate & totaldays & dur\\_wkpv & dur\\_ptp & dur\\_ate & sdwkpv & sdptp & sdate & rate\\_wkpv & rate\\_ptp & rate\\_ate\\\\\n",
       "\\hline\n",
       "\t1 &  0.5048068 &  0.5157236 & -0.3357824 & -0.3810068 & -0.3841513 & -0.3425988 & -0.3440393 & -0.4093823 & -0.1770572 & -0.274077 & -0.3197125 & -0.3978761 & -0.2757998 & -0.3573627 & -0.4249100 &  0.4055094 & -0.3416275 & -0.4641221\\\\\n",
       "\t2 &  0.5048068 &  0.5157236 &  1.9066734 &  2.4019620 &  1.8139738 &  2.3222069 &  2.7924156 &  2.7311368 &  1.1468260 &  1.272133 &  2.7911194 &  2.2230597 &  2.0213291 &  2.5818126 &  2.6809023 &  0.6336696 &  1.1388564 &  1.1743503\\\\\n",
       "\t3 &  0.5048068 &  0.5157236 &  0.5556913 &  0.6203490 &  1.0880145 &  0.5417779 &  0.2107429 &  0.4044384 &  1.0574270 &  1.124615 &  0.1286056 &  0.5235026 &  0.6046085 &  0.3282741 &  0.4695109 &  0.2929773 &  0.7963187 &  1.0763890\\\\\n",
       "\t4 & -1.8846119 & -1.9253681 & -0.4745187 & -0.6067222 & -0.9179258 & -0.5820473 & -0.3713319 & -0.4136820 & -1.1382135 & -1.030743 & -0.3365006 & -0.4017578 & -0.7045063 & -0.3997715 & -0.4328030 & -1.4661697 & -0.4698263 & -0.5079972\\\\\n",
       "\\end{tabular}\n"
      ],
      "text/markdown": [
       "\n",
       "A matrix: 4 × 18 of type dbl\n",
       "\n",
       "| <!--/--> | registered | activated | totalmins | logindays | loginwks | pageviews | ptp | ate | totaldays | dur_wkpv | dur_ptp | dur_ate | sdwkpv | sdptp | sdate | rate_wkpv | rate_ptp | rate_ate |\n",
       "|---|---|---|---|---|---|---|---|---|---|---|---|---|---|---|---|---|---|---|\n",
       "| 1 |  0.5048068 |  0.5157236 | -0.3357824 | -0.3810068 | -0.3841513 | -0.3425988 | -0.3440393 | -0.4093823 | -0.1770572 | -0.274077 | -0.3197125 | -0.3978761 | -0.2757998 | -0.3573627 | -0.4249100 |  0.4055094 | -0.3416275 | -0.4641221 |\n",
       "| 2 |  0.5048068 |  0.5157236 |  1.9066734 |  2.4019620 |  1.8139738 |  2.3222069 |  2.7924156 |  2.7311368 |  1.1468260 |  1.272133 |  2.7911194 |  2.2230597 |  2.0213291 |  2.5818126 |  2.6809023 |  0.6336696 |  1.1388564 |  1.1743503 |\n",
       "| 3 |  0.5048068 |  0.5157236 |  0.5556913 |  0.6203490 |  1.0880145 |  0.5417779 |  0.2107429 |  0.4044384 |  1.0574270 |  1.124615 |  0.1286056 |  0.5235026 |  0.6046085 |  0.3282741 |  0.4695109 |  0.2929773 |  0.7963187 |  1.0763890 |\n",
       "| 4 | -1.8846119 | -1.9253681 | -0.4745187 | -0.6067222 | -0.9179258 | -0.5820473 | -0.3713319 | -0.4136820 | -1.1382135 | -1.030743 | -0.3365006 | -0.4017578 | -0.7045063 | -0.3997715 | -0.4328030 | -1.4661697 | -0.4698263 | -0.5079972 |\n",
       "\n"
      ],
      "text/plain": [
       "  registered activated  totalmins  logindays  loginwks   pageviews  ptp       \n",
       "1  0.5048068  0.5157236 -0.3357824 -0.3810068 -0.3841513 -0.3425988 -0.3440393\n",
       "2  0.5048068  0.5157236  1.9066734  2.4019620  1.8139738  2.3222069  2.7924156\n",
       "3  0.5048068  0.5157236  0.5556913  0.6203490  1.0880145  0.5417779  0.2107429\n",
       "4 -1.8846119 -1.9253681 -0.4745187 -0.6067222 -0.9179258 -0.5820473 -0.3713319\n",
       "  ate        totaldays  dur_wkpv  dur_ptp    dur_ate    sdwkpv     sdptp     \n",
       "1 -0.4093823 -0.1770572 -0.274077 -0.3197125 -0.3978761 -0.2757998 -0.3573627\n",
       "2  2.7311368  1.1468260  1.272133  2.7911194  2.2230597  2.0213291  2.5818126\n",
       "3  0.4044384  1.0574270  1.124615  0.1286056  0.5235026  0.6046085  0.3282741\n",
       "4 -0.4136820 -1.1382135 -1.030743 -0.3365006 -0.4017578 -0.7045063 -0.3997715\n",
       "  sdate      rate_wkpv  rate_ptp   rate_ate  \n",
       "1 -0.4249100  0.4055094 -0.3416275 -0.4641221\n",
       "2  2.6809023  0.6336696  1.1388564  1.1743503\n",
       "3  0.4695109  0.2929773  0.7963187  1.0763890\n",
       "4 -0.4328030 -1.4661697 -0.4698263 -0.5079972"
      ]
     },
     "metadata": {},
     "output_type": "display_data"
    }
   ],
   "source": [
    "km.res = kmeans(scaled, centers=final_k, iter.max = 1000, nstart = 100)\n",
    "km.res$cluster\n",
    "km.res$size\n",
    "km.res$centers"
   ]
  },
  {
   "cell_type": "markdown",
   "id": "2fa6cfb8",
   "metadata": {},
   "source": [
    "### 4 - Visualise SIlhouette Score\n",
    "To ensure the selection of the final K is reasonable, the Silhouette plot is produced. Should this identify any issues or look unreasonable then the K with the next highest average Silhouette score would be assessed.  "
   ]
  },
  {
   "cell_type": "code",
   "execution_count": 6,
   "id": "21369e78",
   "metadata": {
    "vscode": {
     "languageId": "r"
    }
   },
   "outputs": [
    {
     "name": "stdout",
     "output_type": "stream",
     "text": [
      "  cluster size ave.sil.width\n",
      "1       1   69          0.53\n",
      "2       2   10          0.09\n",
      "3       3   33          0.10\n",
      "4       4   30          0.96\n"
     ]
    },
    {
     "data": {
      "image/png": "[encoded data removed]",
      "text/plain": [
       "plot without title"
      ]
     },
     "metadata": {
      "image/png": {
       "height": 420,
       "width": 420
      }
     },
     "output_type": "display_data"
    }
   ],
   "source": [
    "# ---- Silhouette Clusters\n",
    "final_ss <- silhouette(km.res$cluster, dist(scaled))\n",
    "ss <- fviz_silhouette(final_ss) + theme_minimal() + \n",
    "  theme(axis.text.x = element_text(angle = 90, vjust = 0.2, hjust=1, size=5)) \n",
    "ss"
   ]
  },
  {
   "cell_type": "markdown",
   "id": "ff9370e6",
   "metadata": {},
   "source": [
    "### 5 - Visualise Clusters\n",
    "As the group sizes and scores look reasonable the clusters can now be visualised. To do this, the high dimensional data is projected onto 2 dimensions using PCA (taking the first two components). "
   ]
  },
  {
   "cell_type": "code",
   "execution_count": 7,
   "id": "31f53620",
   "metadata": {
    "vscode": {
     "languageId": "r"
    }
   },
   "outputs": [
    {
     "data": {
      "image/png": "[encoded data removed]",
      "text/plain": [
       "plot without title"
      ]
     },
     "metadata": {
      "image/png": {
       "height": 420,
       "width": 420
      }
     },
     "output_type": "display_data"
    },
    {
     "data": {
      "image/png": "[encoded data removed]",
      "text/plain": [
       "plot without title"
      ]
     },
     "metadata": {
      "image/png": {
       "height": 420,
       "width": 420
      }
     },
     "output_type": "display_data"
    }
   ],
   "source": [
    "# To visualise the Edges of the cluster groups\n",
    "cluster.edge <- fviz_cluster(object = km.res, \n",
    "                             data=scaled,\n",
    "                             geom = \"point\",\n",
    "                             palette = \"jco\",\n",
    "                             main = \"\",\n",
    "                             ggtheme = theme_minimal()) # Edges instead of Middle\n",
    "cluster.edge\n",
    "\n",
    "# To visualise the centres of the cluster groups\n",
    "cluster <- fviz_cluster(object = km.res, # kmeans object \n",
    "                        data = scaled, # data used for clustering\n",
    "                        ellipse.type = \"euclid\", # Elucid = see middle, Norm = see all points\n",
    "                        geom = \"point\",\n",
    "                        palette = \"jco\",\n",
    "                        main = \"\",\n",
    "                        ggtheme = theme_minimal())\n",
    "cluster"
   ]
  },
  {
   "cell_type": "markdown",
   "id": "09fb3f81",
   "metadata": {},
   "source": [
    "#### All Silhouette Scores\n",
    "The loop below will plot the Silhouette scores for all values of K so these could be visually assessed. "
   ]
  },
  {
   "cell_type": "code",
   "execution_count": 8,
   "id": "f4f899f2",
   "metadata": {
    "vscode": {
     "languageId": "r"
    }
   },
   "outputs": [
    {
     "name": "stdout",
     "output_type": "stream",
     "text": [
      "  cluster size ave.sil.width\n",
      "1       1   39          0.07\n",
      "2       2  103          0.59\n",
      "  cluster size ave.sil.width\n",
      "1       1   80          0.45\n",
      "2       2   30          0.96\n",
      "3       3   32          0.03\n",
      "  cluster size ave.sil.width\n",
      "1       1   33          0.10\n",
      "2       2   30          0.96\n",
      "3       3   10          0.09\n",
      "4       4   69          0.53\n",
      "  cluster size ave.sil.width\n",
      "1       1   29          0.11\n",
      "2       2   24          0.11\n",
      "3       3   50          0.59\n",
      "4       4   30          0.96\n",
      "5       5    9          0.11\n",
      "  cluster size ave.sil.width\n",
      "1       1   50          0.58\n",
      "2       2   27          0.15\n",
      "3       3    7          0.18\n",
      "4       4   22          0.17\n",
      "5       5    6         -0.01\n",
      "6       6   30          0.96\n",
      "  cluster size ave.sil.width\n",
      "1       1    4          0.12\n",
      "2       2   27          0.15\n",
      "3       3    3          0.10\n",
      "4       4   22          0.17\n",
      "5       5   50          0.58\n",
      "6       6    6          0.28\n",
      "7       7   30          0.96\n",
      "  cluster size ave.sil.width\n",
      "1       1   30          0.96\n",
      "2       2   15          0.16\n",
      "3       3    6          0.27\n",
      "4       4    3          0.08\n",
      "5       5   24          0.32\n",
      "6       6   46          0.55\n",
      "7       7    2          0.27\n",
      "8       8   16          0.09\n",
      "  cluster size ave.sil.width\n",
      "1       1   30          0.96\n",
      "2       2    6          0.26\n",
      "3       3   24          0.36\n",
      "4       4    2          0.24\n",
      "5       5   10          0.19\n",
      "6       6   45          0.53\n",
      "7       7    9          0.13\n",
      "8       8   13          0.18\n",
      "9       9    3          0.05\n",
      "   cluster size ave.sil.width\n",
      "1        1   34          0.52\n",
      "2        2   30          0.96\n",
      "3        3   19          0.27\n",
      "4        4   13          0.19\n",
      "5        5    2          0.04\n",
      "6        6    9          0.12\n",
      "7        7    2          0.28\n",
      "8        8   16          0.27\n",
      "9        9    5          0.37\n",
      "10      10   12          0.07\n"
     ]
    },
    {
     "data": {
      "image/png": "[encoded data removed]",
      "text/plain": [
       "plot without title"
      ]
     },
     "metadata": {
      "image/png": {
       "height": 420,
       "width": 420
      }
     },
     "output_type": "display_data"
    }
   ],
   "source": [
    "plots <- list()\n",
    "\n",
    "for (k in 2:10) {\n",
    "  # K-means clustering\n",
    "  km.res <- kmeans(scaled, centers = k, nstart = 25)\n",
    "  \n",
    "  # Silhouette analysis\n",
    "  sil <- silhouette(km.res$cluster, dist(scaled))\n",
    "  avg_sil <- mean(sil[, \"sil_width\"])  # Compute average silhouette score\n",
    "  \n",
    "  # Silhouette plot with average score in title\n",
    "  p <- fviz_silhouette(sil) +\n",
    "    ggtitle(sprintf(\"K = %d (Avg Silhouette = %.2f)\", k, avg_sil)) +\n",
    "    theme_minimal(base_size = 8) +\n",
    "    theme(axis.text.x = element_text(angle = 90, size = 5),\n",
    "          plot.margin = margin(t = 15, r = 10, b = 10, l = 10),\n",
    "          plot.title = element_text(size = 10))\n",
    "  \n",
    "  plots[[k - 1]] <- p\n",
    "}\n",
    "\n",
    "# Combine all plots\n",
    "combined_plot <- wrap_plots(plots, ncol = 3)\n",
    "combined_plot"
   ]
  }
 ],
 "metadata": {
  "kernelspec": {
   "display_name": "R",
   "language": "R",
   "name": "ir"
  },
  "language_info": {
   "codemirror_mode": "r",
   "file_extension": ".r",
   "mimetype": "text/x-r-source",
   "name": "R",
   "pygments_lexer": "r",
   "version": "4.4.2"
  }
 },
 "nbformat": 4,
 "nbformat_minor": 5
}
