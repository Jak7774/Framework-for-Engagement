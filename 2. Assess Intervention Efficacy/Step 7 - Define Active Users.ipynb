{
 "cells": [
  {
   "cell_type": "markdown",
   "id": "20e0d299",
   "metadata": {},
   "source": [
    "# Assess Intervention Efficacy\n",
    "\n",
    "## Step 7 - Define Active Users\n"
   ]
  },
  {
   "cell_type": "markdown",
   "id": "c8b947bc",
   "metadata": {},
   "source": [
    "### 1) Explore Activity across Engagement Groups"
   ]
  },
  {
   "cell_type": "code",
   "execution_count": 1,
   "id": "0cfb9a8a",
   "metadata": {},
   "outputs": [
    {
     "data": {
      "text/html": [
       "<style>div.jp-Notebook .datagrid-container {min-height: 448px; }</style>"
      ],
      "text/plain": [
       "<IPython.core.display.HTML object>"
      ]
     },
     "metadata": {},
     "output_type": "display_data"
    },
    {
     "name": "stdout",
     "output_type": "stream",
     "text": [
      "(Written by R.              )\n",
      "\n",
      "    Result                      Number of obs\n",
      "    -----------------------------------------\n",
      "    Not matched                             0\n",
      "    Matched                               204  \n",
      "    -----------------------------------------\n"
     ]
    }
   ],
   "source": [
    "* --------------------------------------------------------\n",
    "* Import Data\n",
    "* --------------------------------------------------------\n",
    "qui do Folders \n",
    "qui cd \"$Derived\" \n",
    "\n",
    "use COPE_Clusters, clear\n",
    "merge 1:1 ID using COPE_Final_Indicators, nogen // N=203 not matched are controls"
   ]
  },
  {
   "cell_type": "code",
   "execution_count": 2,
   "id": "b1b83655",
   "metadata": {},
   "outputs": [
    {
     "data": {
      "text/html": [
       "<div>\n",
       "<style scoped>\n",
       "    .dataframe tbody tr th:only-of-type {\n",
       "        vertical-align: middle;\n",
       "    }\n",
       "\n",
       "    .dataframe tbody tr th {\n",
       "        vertical-align: top;\n",
       "    }\n",
       "\n",
       "    .dataframe thead th {\n",
       "        text-align: right;\n",
       "    }\n",
       "</style>\n",
       "<table border=\"1\" class=\"dataframe\">\n",
       "  <thead>\n",
       "    <tr style=\"text-align: right;\">\n",
       "      <th></th>\n",
       "      <th>ID</th>\n",
       "      <th>KMeans</th>\n",
       "      <th>KMeans_Cluster</th>\n",
       "      <th>KMeans_Neighbour</th>\n",
       "      <th>KMeans_SS</th>\n",
       "      <th>cohort</th>\n",
       "      <th>registered</th>\n",
       "      <th>activated</th>\n",
       "      <th>totalmins</th>\n",
       "      <th>logindays</th>\n",
       "      <th>loginwks</th>\n",
       "      <th>pageviews</th>\n",
       "      <th>posts</th>\n",
       "      <th>ptp</th>\n",
       "      <th>ate</th>\n",
       "      <th>totaldays</th>\n",
       "      <th>act_wkpv</th>\n",
       "      <th>dur_wkpv</th>\n",
       "      <th>act_ptp</th>\n",
       "      <th>dur_ptp</th>\n",
       "      <th>act_ate</th>\n",
       "      <th>dur_ate</th>\n",
       "      <th>sdwkpv</th>\n",
       "      <th>sdptp</th>\n",
       "      <th>sdate</th>\n",
       "      <th>rate_wkpv</th>\n",
       "      <th>rate_ptp</th>\n",
       "      <th>rate_ate</th>\n",
       "    </tr>\n",
       "  </thead>\n",
       "  <tbody>\n",
       "    <tr>\n",
       "      <th>1</th>\n",
       "      <td>1</td>\n",
       "      <td>2</td>\n",
       "      <td>2</td>\n",
       "      <td>3</td>\n",
       "      <td>.6089755</td>\n",
       "      <td>1</td>\n",
       "      <td>1</td>\n",
       "      <td>1</td>\n",
       "      <td>3</td>\n",
       "      <td>1</td>\n",
       "      <td>1</td>\n",
       "      <td>1</td>\n",
       "      <td>0</td>\n",
       "      <td>0</td>\n",
       "      <td>0</td>\n",
       "      <td>18</td>\n",
       "      <td>1</td>\n",
       "      <td>1</td>\n",
       "      <td>0</td>\n",
       "      <td>0</td>\n",
       "      <td>0</td>\n",
       "      <td>0</td>\n",
       "      <td>.23570226</td>\n",
       "      <td>0</td>\n",
       "      <td>0</td>\n",
       "      <td>1</td>\n",
       "      <td>0</td>\n",
       "      <td>0</td>\n",
       "    </tr>\n",
       "    <tr>\n",
       "      <th>2</th>\n",
       "      <td>4</td>\n",
       "      <td>.</td>\n",
       "      <td>.</td>\n",
       "      <td>.</td>\n",
       "      <td>.</td>\n",
       "      <td>6</td>\n",
       "      <td>1</td>\n",
       "      <td>1</td>\n",
       "      <td>176.91667</td>\n",
       "      <td>.</td>\n",
       "      <td>6</td>\n",
       "      <td>206</td>\n",
       "      <td>2</td>\n",
       "      <td>0</td>\n",
       "      <td>2</td>\n",
       "      <td>93</td>\n",
       "      <td>6</td>\n",
       "      <td>10</td>\n",
       "      <td>0</td>\n",
       "      <td>0</td>\n",
       "      <td>2</td>\n",
       "      <td>2</td>\n",
       "      <td>22.708439</td>\n",
       "      <td>0</td>\n",
       "      <td>.32338083</td>\n",
       "      <td>.6</td>\n",
       "      <td>0</td>\n",
       "      <td>1</td>\n",
       "    </tr>\n",
       "    <tr>\n",
       "      <th>3</th>\n",
       "      <td>8</td>\n",
       "      <td>2</td>\n",
       "      <td>2</td>\n",
       "      <td>3</td>\n",
       "      <td>.5997149</td>\n",
       "      <td>2</td>\n",
       "      <td>1</td>\n",
       "      <td>1</td>\n",
       "      <td>4.95</td>\n",
       "      <td>1</td>\n",
       "      <td>1</td>\n",
       "      <td>4</td>\n",
       "      <td>0</td>\n",
       "      <td>0</td>\n",
       "      <td>0</td>\n",
       "      <td>10</td>\n",
       "      <td>1</td>\n",
       "      <td>1</td>\n",
       "      <td>0</td>\n",
       "      <td>0</td>\n",
       "      <td>0</td>\n",
       "      <td>0</td>\n",
       "      <td>.94280905</td>\n",
       "      <td>0</td>\n",
       "      <td>0</td>\n",
       "      <td>1</td>\n",
       "      <td>0</td>\n",
       "      <td>0</td>\n",
       "    </tr>\n",
       "    <tr>\n",
       "      <th>4</th>\n",
       "      <td>11</td>\n",
       "      <td>1</td>\n",
       "      <td>1</td>\n",
       "      <td>2</td>\n",
       "      <td>.1304764</td>\n",
       "      <td>3</td>\n",
       "      <td>1</td>\n",
       "      <td>1</td>\n",
       "      <td>243.75</td>\n",
       "      <td>24</td>\n",
       "      <td>12</td>\n",
       "      <td>403</td>\n",
       "      <td>5</td>\n",
       "      <td>0</td>\n",
       "      <td>5</td>\n",
       "      <td>94</td>\n",
       "      <td>12</td>\n",
       "      <td>14</td>\n",
       "      <td>0</td>\n",
       "      <td>0</td>\n",
       "      <td>3</td>\n",
       "      <td>11</td>\n",
       "      <td>37.23872</td>\n",
       "      <td>0</td>\n",
       "      <td>.66911316</td>\n",
       "      <td>.8571429</td>\n",
       "      <td>0</td>\n",
       "      <td>.2727273</td>\n",
       "    </tr>\n",
       "    <tr>\n",
       "      <th>5</th>\n",
       "      <td>13</td>\n",
       "      <td>.</td>\n",
       "      <td>.</td>\n",
       "      <td>.</td>\n",
       "      <td>.</td>\n",
       "      <td>6</td>\n",
       "      <td>1</td>\n",
       "      <td>1</td>\n",
       "      <td>44.783333</td>\n",
       "      <td>.</td>\n",
       "      <td>2</td>\n",
       "      <td>308</td>\n",
       "      <td>0</td>\n",
       "      <td>0</td>\n",
       "      <td>0</td>\n",
       "      <td>21</td>\n",
       "      <td>3</td>\n",
       "      <td>3</td>\n",
       "      <td>0</td>\n",
       "      <td>0</td>\n",
       "      <td>0</td>\n",
       "      <td>0</td>\n",
       "      <td>41.356255</td>\n",
       "      <td>0</td>\n",
       "      <td>0</td>\n",
       "      <td>1</td>\n",
       "      <td>0</td>\n",
       "      <td>0</td>\n",
       "    </tr>\n",
       "  </tbody>\n",
       "</table>\n",
       "</div>"
      ]
     },
     "metadata": {},
     "output_type": "display_data"
    }
   ],
   "source": [
    "%head"
   ]
  },
  {
   "cell_type": "markdown",
   "id": "de3ff5e4",
   "metadata": {},
   "source": [
    "An example of plots to assess activity across different indicator variables. "
   ]
  },
  {
   "cell_type": "code",
   "execution_count": 3,
   "id": "5fc1790b",
   "metadata": {},
   "outputs": [
    {
     "name": "stdout",
     "output_type": "stream",
     "text": [
      "(174 real changes made)\n",
      "(112 real changes made)\n",
      "(174 real changes made)\n",
      "(33 real changes made)\n",
      "(174 real changes made)\n",
      "(0 real changes made)\n"
     ]
    },
    {
     "data": {
      "image/png": "[encoded data removed]",
      "text/plain": [
       "<IPython.core.display.Image object>"
      ]
     },
     "metadata": {},
     "output_type": "display_data"
    },
    {
     "name": "stdout",
     "output_type": "stream",
     "text": [
      "graph __000004 not found\n",
      "r(111);\n"
     ]
    }
   ],
   "source": [
    "#delimit ;\n",
    "\tgraph box ate ptp\n",
    "\t, \n",
    "\tname(posts, replace)\n",
    "\tover(KMeans) plotr(style(none)) scheme(s1color)\n",
    "\tbox(1 , color(edkblue )) box(2, color(maroon ))\n",
    "\tmarker(1 , mcolor(edkblue)) marker(2, mcolor(maroon))\n",
    "\tytitle(\"Posts to Discussion Forums\", m(r+2)) \n",
    "\tlegend(order(1 \"Ask the Expert\" 2 \"Peer to Peer\") symx(*0.3) ring(1) pos(11) row(2) size(small) region(margin(r+10)))\n",
    "\tnodraw\n",
    ";\n",
    "#delimit cr \n",
    "\n",
    "* Defining Short Labels for Graph\n",
    "lab var loginwks \"Total Weeks Logged In\"\n",
    "lab var pageviews \"Total Pageviews\"\n",
    "lab var totalmin \"Total Time Spent (Minutes)\"\n",
    "\n",
    "* In a loop generate a box plot for 3 variables above\n",
    "foreach v in loginwks pageviews totalmin {\n",
    "\t* By each cluster group (named ord) - generated parameters for boxplot\n",
    "\tbysort KMeans: egen mid = median(`v')\n",
    "\tbysort KMeans: egen p25 = pctile(`v') , p(25)\n",
    "\tbysort KMeans: egen p75 = pctile(`v') , p(75)\n",
    "\tbysort KMeans: egen max = max(`v')\n",
    "\tbysort KMeans: egen min = min(`v')\n",
    "\tbysort KMeans: gen lw = p25 - ((p75 - p25) * 1.5)\n",
    "\treplace lw = min if lw < min\n",
    "\tbysort KMeans: gen uw = p75 + ((p75 - p25) * 1.5)\n",
    "\treplace uw = max if uw> max\n",
    "\tgen outside = (`v' > uw | `v' < lw)\n",
    "\n",
    "\tlocal vlab : variable label `v' // take the variable label on y-axis of graph\n",
    "\n",
    "\t* Plot boxplot\n",
    "\t#delimit ;\n",
    "\tgraph twoway \n",
    "\t\t(rcap lw uw KMeans , lcolor(edkblue) msize(vhuge))\n",
    "\t\t(rbar p25 mid KMeans, barw(.5) fcolor(edkblue) fintensity(inten50) lcolor(edkblue))\n",
    "\t\t(rbar mid p75 KMeans, barw(.5) fcolor(edkblue) fintensity(inten50) lcolor(edkblue))\n",
    "\t\t(scatter `v' KMeans if outside, jitter(0.5) mcolor(edkblue) mfcolor(none) msize(small) mlwidth(medthin))\n",
    "\t\t,\n",
    "\t\tytitle(\"`vlab'\", m(r+2)) \n",
    "\t\txtitle(\"\")\n",
    "\t\txlabel( , valuelabel angle(45))\n",
    "\t\tlegend(off) \n",
    "\t\tplotr(style(none))\n",
    "\t\tscheme(s1color)\n",
    "\t\tname(`v', replace)\n",
    "\t\tnodraw // Don't draw, display in combine command below\n",
    "\t;\n",
    "\t#delimit cr\n",
    "\n",
    "\tdrop mid p25 p75 max min lw uw outside\n",
    "}\n",
    "\n",
    "* Combine and Display\n",
    "graph combine posts loginwks pageviews totalmin, r(1)"
   ]
  },
  {
   "cell_type": "markdown",
   "id": "c70ce47f",
   "metadata": {},
   "source": [
    "Assessing these groups across engagement indicator variables identified the labels:\n",
    "- Non-Engagers\n",
    "- Low-Engagers\n",
    "- Mid-Engagers\n",
    "- High-Engagers\n",
    "\n",
    "These labels were then applied to the data."
   ]
  },
  {
   "cell_type": "code",
   "execution_count": 4,
   "id": "ac09b9b9",
   "metadata": {},
   "outputs": [
    {
     "name": "stdout",
     "output_type": "stream",
     "text": [
      "(204 missing values generated)\n",
      "(30 real changes made)\n",
      "(69 real changes made)\n",
      "(33 real changes made)\n",
      "(10 real changes made)\n"
     ]
    }
   ],
   "source": [
    "* ---- Order cluster variables as monotonic trend \n",
    "gen ord = .\n",
    "replace ord = 1 if KMeans == 3\n",
    "replace ord = 2 if KMeans == 2\n",
    "replace ord = 3 if KMeans == 1\n",
    "replace ord = 4 if KMeans == 4\n",
    "\n",
    "* ---- Label Clusters (useful when visualising groups)\n",
    "* ---- These Label Names are defined AFTER exploring and visualising the data. \n",
    "lab define clust_ord 1 \"Non-Engagers\" 2 \"Low Engagers\" 3 \"Mid Engagers\" 4 \"High Engagers\"\n",
    "lab values ord clust_ord"
   ]
  },
  {
   "cell_type": "markdown",
   "id": "fdf28770",
   "metadata": {},
   "source": [
    "#### Boxplot of Indicator Variables\n",
    "Before defining the active user definitions to use in the efficacy analysis, it's first important to visually assess the groups in order to establish how best to generate the definitions. Box plots will help visualise differences in activities between the group and also assess whether there is a trend in activity across the indicator variables. "
   ]
  },
  {
   "cell_type": "code",
   "execution_count": 5,
   "id": "b614370f",
   "metadata": {},
   "outputs": [
    {
     "data": {
      "image/png": "[encoded data removed]",
      "text/plain": [
       "<IPython.core.display.Image object>"
      ]
     },
     "metadata": {},
     "output_type": "display_data"
    }
   ],
   "source": [
    "* --------------------------------------------------------\n",
    "* Boxplots of Indicators\n",
    "* --------------------------------------------------------\n",
    "\n",
    "* --- ATE & PTP Posting\n",
    "#delimit ;\n",
    "\tgraph box ate ptp\n",
    "\t, over(ord) plotr(style(none)) scheme(s1color)\n",
    "\tbox(1 , color(edkblue )) box(2, color(maroon ))\n",
    "\tmarker(1 , mcolor(edkblue)) marker(2, mcolor(maroon))\n",
    "\tlegend(order(1 \"Ask the Expert\" 2 \"Peer to Peer\") symx(*0.5) ring(0) pos(11) row(2))\n",
    ";\n",
    "#delimit cr "
   ]
  },
  {
   "cell_type": "code",
   "execution_count": 6,
   "id": "56eb8e3e",
   "metadata": {},
   "outputs": [
    {
     "name": "stdout",
     "output_type": "stream",
     "text": [
      "(174 real changes made)\n",
      "(112 real changes made)\n",
      "(174 real changes made)\n",
      "(33 real changes made)\n",
      "(174 real changes made)\n",
      "(0 real changes made)\n"
     ]
    },
    {
     "data": {
      "image/png": "[encoded data removed]",
      "text/plain": [
       "<IPython.core.display.Image object>"
      ]
     },
     "metadata": {},
     "output_type": "display_data"
    }
   ],
   "source": [
    "* --------------------------------------------------------\n",
    "* --- Function to Generate Custom Boxplots \n",
    "* --------------------------------------------------------\n",
    "\n",
    "* Defining Short Labels for Graph\n",
    "lab var loginwks \"Total Weeks Logged In\"\n",
    "lab var pageviews \"Total Pageviews\"\n",
    "lab var totalmin \"Total Time Spent (Minutes)\"\n",
    "\n",
    "* In a loop generate a box plot for 3 variables above\n",
    "foreach v in loginwks pageviews totalmin {\n",
    "\t* By each cluster group (named ord) - generated parameters for boxplot\n",
    "\tbysort ord: egen mid = median(`v')\n",
    "\tbysort ord: egen p25 = pctile(`v') , p(25)\n",
    "\tbysort ord: egen p75 = pctile(`v') , p(75)\n",
    "\tbysort ord: egen max = max(`v')\n",
    "\tbysort ord: egen min = min(`v')\n",
    "\tbysort ord: gen lw = p25 - ((p75 - p25) * 1.5)\n",
    "\treplace lw = min if lw < min\n",
    "\tbysort ord: gen uw = p75 + ((p75 - p25) * 1.5)\n",
    "\treplace uw = max if uw> max\n",
    "\tgen outside = (`v' > uw | `v' < lw)\n",
    "\n",
    "\tlocal vlab : variable label `v' // take the variable label on y-axis of graph\n",
    "\n",
    "\t* Plot boxplot\n",
    "\t#delimit ;\n",
    "\tgraph twoway \n",
    "\t\t(rcap lw uw ord , lcolor(edkblue) msize(vhuge))\n",
    "\t\t(rbar p25 mid ord, barw(.5) fcolor(edkblue) fintensity(inten50) lcolor(edkblue))\n",
    "\t\t(rbar mid p75 ord, barw(.5) fcolor(edkblue) fintensity(inten50) lcolor(edkblue))\n",
    "\t\t(scatter `v' ord if outside, jitter(0.5) mcolor(edkblue) mfcolor(none) msize(small) mlwidth(medthin))\n",
    "\t\t,\n",
    "\t\tytitle(\"`vlab'\", m(r+2)) \n",
    "\t\txtitle(\"\")\n",
    "\t\txlabel( , valuelabel angle(45))\n",
    "\t\tlegend(off) \n",
    "\t\tplotr(style(none))\n",
    "\t\tscheme(s1color)\n",
    "\t\tname(`v', replace)\n",
    "\t\tnodraw // Don't draw, display in combine command below\n",
    "\t;\n",
    "\t#delimit cr\n",
    "\n",
    "\tdrop mid p25 p75 max min lw uw outside\n",
    "}\n",
    "\n",
    "* Combine and Display\n",
    "graph combine loginwks pageviews totalmin, r(1)"
   ]
  },
  {
   "cell_type": "markdown",
   "id": "6f0206d4",
   "metadata": {},
   "source": [
    "#### Intervention Retention\n",
    "As with `step 1` where the intervention retention was explored between whether a participant posted to forums or not. The intervention retention for each participant can also be assessed across the identified cluster groups to further assess how activity of participants between groups differs.  \n",
    "\n",
    "** Note - Because one of the groups was the \"non-engagers\" they don't appear in the plot below so only 3 of the 4 groups are shown. "
   ]
  },
  {
   "cell_type": "code",
   "execution_count": 7,
   "id": "03407a8d",
   "metadata": {},
   "outputs": [
    {
     "name": "stdout",
     "output_type": "stream",
     "text": [
      "(1 missing value generated)\n",
      "(20 real changes made)\n",
      "\n",
      "Survival-time data settings\n",
      "\n",
      "           ID variable: ID\n",
      "         Failure event: event==1\n",
      "Observed time interval: (totaldays[_n-1], totaldays]\n",
      "     Exit on or before: failure\n",
      "\n",
      "--------------------------------------------------------------------------\n",
      "        204  total observations\n",
      "          1  event time missing (totaldays>=.)              PROBABLE ERROR\n",
      "         32  observations end on or before enter()\n",
      "--------------------------------------------------------------------------\n",
      "        171  observations remaining, representing\n",
      "        171  subjects\n",
      "        151  failures in single-failure-per-subject data\n",
      "     11,666  total analysis time at risk and under observation\n",
      "                                                At risk from t =         0\n",
      "                                     Earliest observed entry t =         0\n",
      "                                          Last observed exit t =       126\n",
      "\n",
      "        Failure _d: event==1\n",
      "  Analysis time _t: totaldays\n",
      "       ID variable: ID\n",
      "\n",
      "         |               Incidence     Number of   |------ Survival time -----|\n",
      "     ord | Time at risk       rate      subjects        25%       50%       75%\n",
      "---------+---------------------------------------------------------------------\n",
      "Low Enga |        3,091   .0213523            67         15        39        75\n",
      "Mid Enga |        3,377   .0091797            33         92       109       122\n",
      "High Eng |        1,065   .0065728            10        108       115         .\n",
      "---------+---------------------------------------------------------------------\n",
      "   Total |        7,533   .0138059           110         32        70       110\n",
      "\n",
      "        Failure _d: event==1\n",
      "  Analysis time _t: totaldays\n",
      "       ID variable: ID\n"
     ]
    },
    {
     "data": {
      "image/png": "[encoded data removed]",
      "text/plain": [
       "<IPython.core.display.Image object>"
      ]
     },
     "metadata": {},
     "output_type": "display_data"
    }
   ],
   "source": [
    "gen event = 1 if totaldays < . // every row is an event\n",
    "replace event = 2 if totaldays >= 126 & totaldays < . \n",
    "stset totaldays , id(ID) f(event==1)\n",
    "\n",
    "stsum , by(ord)\n",
    "\n",
    "#delimit ; \n",
    "\tsts graph , \n",
    "\tby(ord) risktable plotr(style(none)) scheme(s1color) \n",
    "\ttitle(\"Intervention Retention\") \n",
    "\txtitle(\"Total Days since Activation\" , m(t+3)) \n",
    "\trisktable( , order(1 \"Low Engagers\" 2 \"Mid Engagers\" 3 \"High Engagers\"))\n",
    "\tlegend(order(1 \"Low Engagers\" 2 \"Mid Engagers\" 3 \"High Engagers\") \n",
    "\t\t\tsymx(*0.3) row(1) size(*0.8))\n",
    ";\n",
    "#delimit cr"
   ]
  },
  {
   "cell_type": "markdown",
   "id": "5f679092",
   "metadata": {},
   "source": [
    "### 2) Active User Definitions\n",
    "The exploration of activity across different engagement indicator variables indicates there is a linear trend between the identified groups. The most appropriate set of active user defintions will the ones with a threshold approach. With 4 groups there are 3 positions where a binary threshold can be applied (i.e the first is between the non-engagers and the low-engagers and so on). Additionally, instead of a binary definition, this could also be a categorical definition for estimand analyses that allows intercurrent events to be categorical. \n",
    "\n",
    "These definitions are generated below. "
   ]
  },
  {
   "cell_type": "code",
   "execution_count": 8,
   "id": "4f9c7d7d",
   "metadata": {},
   "outputs": [
    {
     "name": "stdout",
     "output_type": "stream",
     "text": [
      "(62 missing values generated)\n",
      "(62 missing values generated)\n",
      "(62 missing values generated)\n",
      "(62 missing values generated)\n"
     ]
    }
   ],
   "source": [
    "* --------------------------------------------------------\n",
    "* Compliance Definitions\n",
    "* --------------------------------------------------------\n",
    "\n",
    "* ---- Binary Compliance - Optimal \n",
    "\n",
    "forvalues i = 1/3 {\n",
    "\tgen ocomp`i'= (ord > `i') if ord < .  \n",
    "}\n",
    "\n",
    "* ---- Ordered Compliance\n",
    "gen scomp = ord\n",
    "\n",
    "* ------------------------------------------------------\n",
    "* Labels\n",
    "* ------------------------------------------------------\n",
    "\n",
    "lab var ocomp1 \">1 Binary Compliance - Optimal Grouping\"\n",
    "lab var ocomp2 \">2 Binary Compliance - Optimal Grouping\"\n",
    "lab var ocomp3 \">3 Binary Compliance - Optimal Grouping\"\n",
    "\n",
    "lab var scomp \"Ordered Compliance - Optimal Grouping\""
   ]
  },
  {
   "cell_type": "code",
   "execution_count": 9,
   "id": "d4d9d40e",
   "metadata": {},
   "outputs": [
    {
     "name": "stdout",
     "output_type": "stream",
     "text": [
      "\n",
      "Active User Definition for >1 Binary Compliance - Optimal Grouping \n",
      "\n",
      "              | >1 Binary Compliance\n",
      "              |  - Optimal Grouping\n",
      "          ord |         0          1 |     Total\n",
      "--------------+----------------------+----------\n",
      " Non-Engagers |        30          0 |        30 \n",
      " Low Engagers |         0         69 |        69 \n",
      " Mid Engagers |         0         33 |        33 \n",
      "High Engagers |         0         10 |        10 \n",
      "--------------+----------------------+----------\n",
      "        Total |        30        112 |       142 \n",
      "\n",
      "Active User Definition for >2 Binary Compliance - Optimal Grouping \n",
      "\n",
      "              | >2 Binary Compliance\n",
      "              |  - Optimal Grouping\n",
      "          ord |         0          1 |     Total\n",
      "--------------+----------------------+----------\n",
      " Non-Engagers |        30          0 |        30 \n",
      " Low Engagers |        69          0 |        69 \n",
      " Mid Engagers |         0         33 |        33 \n",
      "High Engagers |         0         10 |        10 \n",
      "--------------+----------------------+----------\n",
      "        Total |        99         43 |       142 \n",
      "\n",
      "Active User Definition for >3 Binary Compliance - Optimal Grouping \n",
      "\n",
      "              | >3 Binary Compliance\n",
      "              |  - Optimal Grouping\n",
      "          ord |         0          1 |     Total\n",
      "--------------+----------------------+----------\n",
      " Non-Engagers |        30          0 |        30 \n",
      " Low Engagers |        69          0 |        69 \n",
      " Mid Engagers |        33          0 |        33 \n",
      "High Engagers |         0         10 |        10 \n",
      "--------------+----------------------+----------\n",
      "        Total |       132         10 |       142 \n",
      "\n",
      "Active User Definition for Ordered Compliance - Optimal Grouping \n",
      "\n",
      "              |    Ordered Compliance - Optimal Grouping\n",
      "          ord |         1          2          3          4 |     Total\n",
      "--------------+--------------------------------------------+----------\n",
      " Non-Engagers |        30          0          0          0 |        30 \n",
      " Low Engagers |         0         69          0          0 |        69 \n",
      " Mid Engagers |         0          0         33          0 |        33 \n",
      "High Engagers |         0          0          0         10 |        10 \n",
      "--------------+--------------------------------------------+----------\n",
      "        Total |        30         69         33         10 |       142 \n"
     ]
    }
   ],
   "source": [
    "* --------------------------------------------------------\n",
    "* Tabulate in COPe-Support Arm to visualise\n",
    "* --------------------------------------------------------\n",
    "\n",
    "foreach v in ocomp1 ocomp2 ocomp3 scomp {\n",
    "    local vlab : variable label `v'\n",
    "    di \"\"\n",
    "    di \"Active User Definition for `vlab' \"\n",
    "    tab ord `v'\n",
    "}"
   ]
  }
 ],
 "metadata": {
  "kernelspec": {
   "display_name": "Stata (nbstata)",
   "language": "stata",
   "name": "nbstata"
  },
  "language_info": {
   "file_extension": ".do",
   "mimetype": "text/x-stata",
   "name": "stata",
   "version": "17"
  }
 },
 "nbformat": 4,
 "nbformat_minor": 5
}
